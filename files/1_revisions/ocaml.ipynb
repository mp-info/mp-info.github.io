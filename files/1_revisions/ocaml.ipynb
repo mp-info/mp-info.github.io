{
 "cells": [
  {
   "attachments": {},
   "cell_type": "markdown",
   "metadata": {},
   "source": [
    "# Résumé OCaml\n",
    "\n",
    "Résumé OCaml :\n",
    "<iframe src=https://mozilla.github.io/pdf.js/web/viewer.html?file=https://raw.githubusercontent.com/fortierq/cours/main/ocaml/resume/ocaml_resume.pdf#zoom=page-width&pagemode=none height=800 width=100% allowfullscreen></iframe>\n",
    "\n",
    "Syntaxe OCaml à connaître d'après le programme officiel :\n",
    "<iframe src=https://mozilla.github.io/pdf.js/web/viewer.html?file=https://raw.githubusercontent.com/mp-info/mp-info.github.io/main/files/1_revisions/ocaml.pdf?token=GHSAT0AAAAAABX6XFRWYXFHKWW5O7OTWZXYYYJED7Q#zoom=page-width&pagemode=none height=800 width=100% allowfullscreen></iframe>"
   ]
  }
 ],
 "metadata": {
  "kernelspec": {
   "display_name": "Python 3.10.4 64-bit",
   "language": "python",
   "name": "python3"
  },
  "language_info": {
   "name": "python",
   "version": "3.9.2"
  },
  "vscode": {
   "interpreter": {
    "hash": "31f2aee4e71d21fbe5cf8b01ff0e069b9275f58929596ceb00d14d90e3e16cd6"
   }
  }
 },
 "nbformat": 4,
 "nbformat_minor": 2
}
