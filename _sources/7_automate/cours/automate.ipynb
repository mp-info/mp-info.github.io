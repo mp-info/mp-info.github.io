{
 "cells": [
  {
   "attachments": {},
   "cell_type": "markdown",
   "metadata": {
    "vscode": {
     "languageId": "plaintext"
    }
   },
   "source": [
    "# Automates\n",
    "\n",
    "<iframe src=https://mozilla.github.io/pdf.js/web/viewer.html?file=https://raw.githubusercontent.com/mp-info/mp-info.github.io/main/files/7_automate/cours/automate.pdf#zoom=page-fit&pagemode=none height=500 width=100% allowfullscreen></iframe>"
   ]
  },
  {
   "attachments": {},
   "cell_type": "markdown",
   "metadata": {},
   "source": [
    "## Définition d'automate (non déterministe)"
   ]
  },
  {
   "cell_type": "code",
   "execution_count": 1,
   "metadata": {
    "vscode": {
     "languageId": "ocaml"
    }
   },
   "outputs": [
    {
     "data": {
      "text/plain": [
       "type automate = {\n",
       "  initiaux : int list;\n",
       "  finaux : int list;\n",
       "  delta : (int * char, int list) Hashtbl.t;\n",
       "}\n"
      ]
     },
     "execution_count": 1,
     "metadata": {},
     "output_type": "execute_result"
    }
   ],
   "source": [
    "type automate = { \n",
    "\tinitiaux : int list;\n",
    "\tfinaux : int list;\n",
    "\tdelta : (int*char, int list) Hashtbl.t \n",
    "}"
   ]
  },
  {
   "attachments": {},
   "cell_type": "markdown",
   "metadata": {},
   "source": [
    "<center><img src=https://raw.githubusercontent.com/fortierq/tikz/master/automata/a3/a3.png width=300></center>"
   ]
  },
  {
   "cell_type": "code",
   "execution_count": 2,
   "metadata": {
    "vscode": {
     "languageId": "ocaml"
    }
   },
   "outputs": [
    {
     "data": {
      "text/plain": [
       "val d : ('_weak1, '_weak2) Hashtbl.t = <abstr>\n"
      ]
     },
     "execution_count": 2,
     "metadata": {},
     "output_type": "execute_result"
    },
    {
     "data": {
      "text/plain": [
       "- : unit = ()\n"
      ]
     },
     "execution_count": 2,
     "metadata": {},
     "output_type": "execute_result"
    },
    {
     "data": {
      "text/plain": [
       "- : unit = ()\n"
      ]
     },
     "execution_count": 2,
     "metadata": {},
     "output_type": "execute_result"
    },
    {
     "data": {
      "text/plain": [
       "- : unit = ()\n"
      ]
     },
     "execution_count": 2,
     "metadata": {},
     "output_type": "execute_result"
    },
    {
     "data": {
      "text/plain": [
       "val a : automate = {initiaux = [0]; finaux = [1]; delta = <abstr>}\n"
      ]
     },
     "execution_count": 2,
     "metadata": {},
     "output_type": "execute_result"
    }
   ],
   "source": [
    "let d = Hashtbl.create 42;;\n",
    "Hashtbl.add d (0, 'a') [1];;\n",
    "Hashtbl.add d (1, 'a') [1];;\n",
    "Hashtbl.add d (1, 'b') [1; 2];;\n",
    "\n",
    "let a = {\n",
    "  initiaux = [0];\n",
    "  finaux = [1];\n",
    "  delta = d\n",
    "}"
   ]
  },
  {
   "attachments": {},
   "cell_type": "markdown",
   "metadata": {},
   "source": [
    "## Test d'appartenance d'un mot au langage d'un automate"
   ]
  },
  {
   "cell_type": "code",
   "execution_count": 3,
   "metadata": {
    "vscode": {
     "languageId": "ocaml"
    }
   },
   "outputs": [
    {
     "data": {
      "text/plain": [
       "val etape : automate -> int list -> char -> int list = <fun>\n"
      ]
     },
     "execution_count": 3,
     "metadata": {},
     "output_type": "execute_result"
    }
   ],
   "source": [
    "let rec etape a etats lettre = match etats with\n",
    "    | [] -> []\n",
    "    | e::q -> let t = (e, lettre) in\n",
    "      if Hashtbl.mem a.delta t \n",
    "\t  then (Hashtbl.find a.delta t)@(etape a q lettre)\n",
    "      else etape a q lettre"
   ]
  },
  {
   "cell_type": "code",
   "execution_count": 4,
   "metadata": {
    "vscode": {
     "languageId": "ocaml"
    }
   },
   "outputs": [
    {
     "data": {
      "text/plain": [
       "- : int list = [1]\n"
      ]
     },
     "execution_count": 4,
     "metadata": {},
     "output_type": "execute_result"
    },
    {
     "data": {
      "text/plain": [
       "- : int list = [1; 2]\n"
      ]
     },
     "execution_count": 4,
     "metadata": {},
     "output_type": "execute_result"
    }
   ],
   "source": [
    "etape a [0] 'a';; (* tests *)\n",
    "etape a [0; 1] 'b';;"
   ]
  },
  {
   "cell_type": "code",
   "execution_count": 5,
   "metadata": {
    "vscode": {
     "languageId": "ocaml"
    }
   },
   "outputs": [
    {
     "data": {
      "text/plain": [
       "val accepte : automate -> string -> bool = <fun>\n"
      ]
     },
     "execution_count": 5,
     "metadata": {},
     "output_type": "execute_result"
    },
    {
     "data": {
      "text/plain": [
       "- : bool = true\n"
      ]
     },
     "execution_count": 5,
     "metadata": {},
     "output_type": "execute_result"
    }
   ],
   "source": [
    "let accepte a (mot : string) =\n",
    "  let etats = ref a.initiaux in\n",
    "  for i = 0 to String.length mot - 1 do\n",
    "    etats := etape a !etats mot.[i]\n",
    "  done;\n",
    "  List.exists (fun e -> List.mem e a.finaux) !etats;;\n",
    "\n",
    "accepte a \"abb\";;"
   ]
  },
  {
   "attachments": {},
   "cell_type": "markdown",
   "metadata": {},
   "source": [
    "## Automate déterministe complet"
   ]
  },
  {
   "cell_type": "code",
   "execution_count": 37,
   "metadata": {
    "vscode": {
     "languageId": "ocaml"
    }
   },
   "outputs": [
    {
     "ename": "error",
     "evalue": "compile_error",
     "output_type": "error",
     "traceback": [
      "File \"[37]\", line 4, characters 21-34:\n4 | \tdelta : (int*char)* int Hashtbl.t \n                         ^^^^^^^^^^^^^\nError: The type constructor Hashtbl.t expects 2 argument(s),\n       but is here applied to 1 argument(s)\n"
     ]
    }
   ],
   "source": [
    "type afdc = { \n",
    "\tinitial : int;\n",
    "\tfinaux : int list;\n",
    "\tdelta : (int*char, int) Hashtbl.t \n",
    "}"
   ]
  },
  {
   "cell_type": "code",
   "execution_count": 36,
   "metadata": {
    "vscode": {
     "languageId": "ocaml"
    }
   },
   "outputs": [
    {
     "data": {
      "text/plain": [
       "val accepte : afdc -> string -> bool = <fun>\n"
      ]
     },
     "execution_count": 36,
     "metadata": {},
     "output_type": "execute_result"
    }
   ],
   "source": [
    "let accepte a (mot : string) =\n",
    "  let etat = ref a.initial in\n",
    "  for i = 0 to String.length mot - 1 do\n",
    "    etat := Hashtbl.find a.delta (!etat, mot.[i])\n",
    "  done;\n",
    "  List.mem !etat a.finaux;;"
   ]
  }
 ],
 "metadata": {
  "kernelspec": {
   "display_name": "OCaml default",
   "language": "OCaml",
   "name": "ocaml-jupyter"
  },
  "language_info": {
   "codemirror_mode": "text/x-ocaml",
   "file_extension": ".ml",
   "mimetype": "text/x-ocaml",
   "name": "OCaml",
   "nbconverter_exporter": null,
   "pygments_lexer": "OCaml",
   "version": "4.11.1"
  },
  "vscode": {
   "interpreter": {
    "hash": "31f2aee4e71d21fbe5cf8b01ff0e069b9275f58929596ceb00d14d90e3e16cd6"
   }
  }
 },
 "nbformat": 4,
 "nbformat_minor": 2
}
