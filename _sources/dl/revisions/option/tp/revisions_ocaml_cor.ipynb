{
 "cells": [
  {
   "attachments": {},
   "cell_type": "markdown",
   "metadata": {},
   "source": [
    "# Exercices de révision OCaml : corrigé\n",
    "\n",
    "## Calcul"
   ]
  },
  {
   "attachments": {},
   "cell_type": "markdown",
   "metadata": {},
   "source": [
    "````{admonition} Question\n",
    " Écrire une fonction `borne k` renvoyant le plus petit entier $n$ tel que $2^n > k$. On pourra écrire deux solutions : une version itérative et une récursive.\n",
    "````"
   ]
  },
  {
   "cell_type": "markdown",
   "execution_count": 7,
   "metadata": {
    "tags": [
     "cor"
    ],
    "vscode": {
     "languageId": "ocaml"
    }
   },
   "source": [
    "````{admonition} Solution\n",
    ":class: tip, dropdown\n",
    "``` ocaml\n",
    "let borne k = (* itératif *)\n",
    "  let n = ref 0 in\n",
    "  let p = ref 1 in (* p = 2^n *)\n",
    "  while !p <= k do\n",
    "    n := !n + 1;\n",
    "    p := 2* !p\n",
    "  done;\n",
    "  !n\n",
    "\n",
    "let rec borne k = (* récursif *)\n",
    "  if k = 0 then 0\n",
    "  else 1 + borne (k/2)\n",
    "```\n",
    "``` \n",
    "val borne : int -> int = <fun>\n",
    "\n",
    "val borne : int -> int = <fun>\n",
    "\n",
    "\n",
    "```\n",
    "````"
   ]
  },
  {
   "cell_type": "code",
   "execution_count": 8,
   "metadata": {
    "vscode": {
     "languageId": "ocaml"
    }
   },
   "outputs": [
    {
     "data": {
      "text/plain": [
       "- : int = 17\n"
      ]
     },
     "execution_count": 8,
     "metadata": {},
     "output_type": "execute_result"
    }
   ],
   "source": [
    "borne 100000"
   ]
  },
  {
   "attachments": {},
   "cell_type": "markdown",
   "metadata": {},
   "source": [
    "````{admonition} Question\n",
    " Écrire une fonction `premier n` déterminant si l'entier `n` est premier.\n",
    "````"
   ]
  },
  {
   "cell_type": "markdown",
   "execution_count": 9,
   "metadata": {
    "tags": [
     "cor"
    ],
    "vscode": {
     "languageId": "ocaml"
    }
   },
   "source": [
    "````{admonition} Solution\n",
    ":class: tip, dropdown\n",
    "``` ocaml\n",
    "let premier n = (* itératif *)\n",
    "  let d = ref 2 in\n",
    "  let res = ref true in\n",
    "  while !d* !d <= n && !res do\n",
    "    res := n mod !d <> 0;\n",
    "    d := !d + 1\n",
    "  done;\n",
    "  n > 1 && !res\n",
    "\n",
    "  let premier n = (* récursif *)\n",
    "  let rec aux d =\n",
    "    d*d > n || (n mod d <> 0 && aux (d+1))\n",
    "  in\n",
    "  n > 1 && aux 2\n",
    "```\n",
    "``` \n",
    "val premier : int -> bool = <fun>\n",
    "\n",
    "val premier : int -> bool = <fun>\n",
    "\n",
    "\n",
    "```\n",
    "````"
   ]
  },
  {
   "cell_type": "code",
   "execution_count": 10,
   "metadata": {
    "vscode": {
     "languageId": "ocaml"
    }
   },
   "outputs": [
    {
     "data": {
      "text/plain": [
       "- : bool = true\n"
      ]
     },
     "execution_count": 10,
     "metadata": {},
     "output_type": "execute_result"
    }
   ],
   "source": [
    "premier 7 && not (premier 42)"
   ]
  },
  {
   "attachments": {},
   "cell_type": "markdown",
   "metadata": {},
   "source": [
    "## Types\n",
    "\n",
    "### Type somme\n",
    "\n",
    "On rappelle que le type option est prédéfini en OCaml :\n",
    "\n",
    "```ocaml\n",
    "type 'a option = None | Some of 'a\n",
    "```\n",
    "\n",
    "Une option peut donc être soit `None`, soit `Some x` où `x` est de type `'a`."
   ]
  },
  {
   "attachments": {},
   "cell_type": "markdown",
   "metadata": {},
   "source": [
    "````{admonition} Question\n",
    " Écrire une fonction `minimum : int list -> int option` qui renvoie `Some m` où `m` est le minimum d'une liste d'entiers en argument. Si la liste est vide, la fonction renvoie `None`.\n",
    "````"
   ]
  },
  {
   "cell_type": "markdown",
   "execution_count": 11,
   "metadata": {
    "tags": [
     "cor"
    ],
    "vscode": {
     "languageId": "ocaml"
    }
   },
   "source": [
    "````{admonition} Solution\n",
    ":class: tip, dropdown\n",
    "``` ocaml\n",
    "let rec minimum l =\n",
    "  match l with\n",
    "  | [] -> None\n",
    "  | [x] -> Some x\n",
    "  | x::y::l ->\n",
    "    let m = min x y in\n",
    "    minimum (m::l)\n",
    "```\n",
    "``` \n",
    "val minimum : 'a list -> 'a option = <fun>\n",
    "\n",
    "\n",
    "```\n",
    "````"
   ]
  },
  {
   "cell_type": "code",
   "execution_count": 51,
   "metadata": {
    "vscode": {
     "languageId": "ocaml"
    }
   },
   "outputs": [
    {
     "data": {
      "text/plain": [
       "- : int option = Some 1\n"
      ]
     },
     "execution_count": 51,
     "metadata": {},
     "output_type": "execute_result"
    },
    {
     "data": {
      "text/plain": [
       "- : 'a option = None\n"
      ]
     },
     "execution_count": 51,
     "metadata": {},
     "output_type": "execute_result"
    }
   ],
   "source": [
    "minimum [4; 3; 1; 8];;\n",
    "minimum [];;"
   ]
  },
  {
   "cell_type": "markdown",
   "metadata": {},
   "source": [
    "\n",
    "### Type enregistrement"
   ]
  },
  {
   "attachments": {},
   "cell_type": "markdown",
   "metadata": {},
   "source": [
    "````{admonition} Question\n",
    " Définir un type `fraction` enregistrement contenant deux entiers `p` et `q` (ce type représente donc une fraction rationnelle $\\frac{p}{q}$).\n",
    "````"
   ]
  },
  {
   "cell_type": "markdown",
   "execution_count": 12,
   "metadata": {
    "tags": [
     "cor"
    ],
    "vscode": {
     "languageId": "ocaml"
    }
   },
   "source": [
    "````{admonition} Solution\n",
    ":class: tip, dropdown\n",
    "``` ocaml\n",
    "type fraction = {p : int; q : int}\n",
    "```\n",
    "``` \n",
    "type fraction = { p : int; q : int; }\n",
    "\n",
    "\n",
    "```\n",
    "````"
   ]
  },
  {
   "attachments": {},
   "cell_type": "markdown",
   "metadata": {},
   "source": [
    "````{admonition} Question\n",
    " Définir une variable `x` contenant la fraction $\\frac{3}{4}$.\n",
    "````"
   ]
  },
  {
   "cell_type": "markdown",
   "execution_count": 13,
   "metadata": {
    "tags": [
     "cor"
    ],
    "vscode": {
     "languageId": "ocaml"
    }
   },
   "source": [
    "````{admonition} Solution\n",
    ":class: tip, dropdown\n",
    "``` ocaml\n",
    "let x = {p = 3; q = 4}\n",
    "```\n",
    "``` \n",
    "val x : fraction = {p = 3; q = 4}\n",
    "\n",
    "\n",
    "```\n",
    "````"
   ]
  },
  {
   "attachments": {},
   "cell_type": "markdown",
   "metadata": {},
   "source": [
    "````{admonition} Question\n",
    " Écrire une fonction `addition x y` renvoyant la somme des fractions `x` et `y`.\n",
    "````"
   ]
  },
  {
   "cell_type": "markdown",
   "execution_count": 14,
   "metadata": {
    "tags": [
     "cor"
    ],
    "vscode": {
     "languageId": "ocaml"
    }
   },
   "source": [
    "````{admonition} Solution\n",
    ":class: tip, dropdown\n",
    "``` ocaml\n",
    "let addition x y = {p = x.p*y.q + y.p*x.q; q = x.q*y.q}\n",
    "```\n",
    "``` \n",
    "val addition : fraction -> fraction -> fraction = <fun>\n",
    "\n",
    "\n",
    "```\n",
    "````"
   ]
  },
  {
   "cell_type": "code",
   "execution_count": 15,
   "metadata": {
    "vscode": {
     "languageId": "ocaml"
    }
   },
   "outputs": [
    {
     "data": {
      "text/plain": [
       "- : fraction = {p = 24; q = 16}\n"
      ]
     },
     "execution_count": 15,
     "metadata": {},
     "output_type": "execute_result"
    }
   ],
   "source": [
    "addition x x"
   ]
  },
  {
   "attachments": {},
   "cell_type": "markdown",
   "metadata": {},
   "source": [
    "````{admonition} Question\n",
    " Écrire une fonction `pgcd a b` calculant le plus grand diviseur commun de `a` et `b`.  \n",
    "Pour cela, on utilisera l'algorithme d'Euclide qui consiste à appliquer la récurrence suivante :\n",
    "- $pgcd(a, b) = pgcd(b, a \\mod b)$ si $b \\neq 0$,\n",
    "- $pgcd(a, 0) = a$ sinon.\n",
    "````"
   ]
  },
  {
   "cell_type": "markdown",
   "execution_count": 16,
   "metadata": {
    "tags": [
     "cor"
    ],
    "vscode": {
     "languageId": "ocaml"
    }
   },
   "source": [
    "````{admonition} Solution\n",
    ":class: tip, dropdown\n",
    "``` ocaml\n",
    "let rec pgcd a b =\n",
    "  if b = 0 then a\n",
    "  else pgcd b (a mod b)\n",
    "```\n",
    "``` \n",
    "val pgcd : int -> int -> int = <fun>\n",
    "\n",
    "\n",
    "```\n",
    "````"
   ]
  },
  {
   "cell_type": "code",
   "execution_count": 17,
   "metadata": {
    "vscode": {
     "languageId": "ocaml"
    }
   },
   "outputs": [
    {
     "data": {
      "text/plain": [
       "- : int = 7\n"
      ]
     },
     "execution_count": 17,
     "metadata": {},
     "output_type": "execute_result"
    }
   ],
   "source": [
    "pgcd 42 35"
   ]
  },
  {
   "attachments": {},
   "cell_type": "markdown",
   "metadata": {},
   "source": [
    "````{admonition} Question\n",
    " En déduire une fonction `simplifie` qui simplifie une fraction rationnelle.\n",
    "````"
   ]
  },
  {
   "cell_type": "markdown",
   "execution_count": 18,
   "metadata": {
    "tags": [
     "cor"
    ],
    "vscode": {
     "languageId": "ocaml"
    }
   },
   "source": [
    "````{admonition} Solution\n",
    ":class: tip, dropdown\n",
    "``` ocaml\n",
    "let simplifie x =\n",
    "  let d = pgcd x.p x.q in\n",
    "  {p = x.p / d; q = x.q / d}\n",
    "```\n",
    "``` \n",
    "val simplifie : fraction -> fraction = <fun>\n",
    "\n",
    "\n",
    "```\n",
    "````"
   ]
  },
  {
   "cell_type": "code",
   "execution_count": 19,
   "metadata": {
    "vscode": {
     "languageId": "ocaml"
    }
   },
   "outputs": [
    {
     "data": {
      "text/plain": [
       "- : fraction = {p = 6; q = 5}\n"
      ]
     },
     "execution_count": 19,
     "metadata": {},
     "output_type": "execute_result"
    }
   ],
   "source": [
    "simplifie ({p = 42; q = 35})"
   ]
  },
  {
   "attachments": {},
   "cell_type": "markdown",
   "metadata": {},
   "source": [
    "## Listes"
   ]
  },
  {
   "attachments": {},
   "cell_type": "markdown",
   "metadata": {},
   "source": [
    "````{admonition} Question\n",
    " Écrire une fonction `somme : int list -> int` qui calcule la somme des éléments d'une liste d'entiers.\n",
    "````"
   ]
  },
  {
   "cell_type": "markdown",
   "execution_count": 20,
   "metadata": {
    "tags": [
     "cor"
    ],
    "vscode": {
     "languageId": "ocaml"
    }
   },
   "source": [
    "````{admonition} Solution\n",
    ":class: tip, dropdown\n",
    "``` ocaml\n",
    "let rec somme l = match l with\n",
    "  | [] -> 0\n",
    "  | x::l -> x + somme l\n",
    "```\n",
    "``` \n",
    "val somme : int list -> int = <fun>\n",
    "\n",
    "\n",
    "```\n",
    "````"
   ]
  },
  {
   "cell_type": "code",
   "execution_count": 21,
   "metadata": {
    "vscode": {
     "languageId": "ocaml"
    }
   },
   "outputs": [
    {
     "data": {
      "text/plain": [
       "- : int = 15\n"
      ]
     },
     "execution_count": 21,
     "metadata": {},
     "output_type": "execute_result"
    }
   ],
   "source": [
    "somme [1;2;3;4;5]"
   ]
  },
  {
   "attachments": {},
   "cell_type": "markdown",
   "metadata": {},
   "source": [
    "````{admonition} Question\n",
    " Écrire une fonction `rev : 'a list -> 'a list` qui renvoie la liste inversée de la liste donnée en argument, en complexité linéaire en la longueur de la liste.\n",
    "````"
   ]
  },
  {
   "cell_type": "markdown",
   "execution_count": 22,
   "metadata": {
    "tags": [
     "cor"
    ],
    "vscode": {
     "languageId": "ocaml"
    }
   },
   "source": [
    "````{admonition} Solution\n",
    ":class: tip, dropdown\n",
    "``` ocaml\n",
    "let rev l = (* itératif *)\n",
    "  let rec aux l acc =\n",
    "    match l with\n",
    "    | [] -> acc\n",
    "    | x::l -> aux l (x::acc)\n",
    "  in\n",
    "  aux l []\n",
    "```\n",
    "``` \n",
    "val rev : 'a list -> 'a list = <fun>\n",
    "\n",
    "\n",
    "```\n",
    "````"
   ]
  },
  {
   "cell_type": "code",
   "execution_count": 23,
   "metadata": {
    "vscode": {
     "languageId": "ocaml"
    }
   },
   "outputs": [
    {
     "data": {
      "text/plain": [
       "- : int list = [5; 4; 3; 2; 1]\n"
      ]
     },
     "execution_count": 23,
     "metadata": {},
     "output_type": "execute_result"
    }
   ],
   "source": [
    "rev [1;2;3;4;5]"
   ]
  },
  {
   "attachments": {},
   "cell_type": "markdown",
   "metadata": {},
   "source": [
    "````{admonition} Question\n",
    " Écrire une fonction `syracuse a` renvoyant la liste des $u_k$ définies par la suite suivante, où on arrêtera de calculer les termes de la suite dès que l'on obtient $1$ : \n",
    "\n",
    "\\begin{align*}\n",
    "    u_0 &= a \\\\\n",
    "    u_{n+1} &= \\begin{cases} \\frac{u_n}{2} & \\text{si } u_n \\text{ est pair} \\\\ 3u_n + 1 & \\text{si } u_n \\text{ est impair} \\end{cases}\n",
    "\\end{align*}\n",
    "````"
   ]
  },
  {
   "cell_type": "markdown",
   "execution_count": 24,
   "metadata": {
    "tags": [
     "cor"
    ],
    "vscode": {
     "languageId": "ocaml"
    }
   },
   "source": [
    "````{admonition} Solution\n",
    ":class: tip, dropdown\n",
    "``` ocaml\n",
    "let rec syracuse a =\n",
    "  if a = 1 then [1]\n",
    "  else if a mod 2 = 0 then a::syracuse (a/2)\n",
    "  else a::syracuse (3*a+1)\n",
    "```\n",
    "``` \n",
    "val syracuse : int -> int list = <fun>\n",
    "\n",
    "\n",
    "```\n",
    "````"
   ]
  },
  {
   "cell_type": "code",
   "execution_count": 25,
   "metadata": {
    "vscode": {
     "languageId": "ocaml"
    }
   },
   "outputs": [
    {
     "data": {
      "text/plain": [
       "- : int list = [3; 10; 5; 16; 8; 4; 2; 1]\n"
      ]
     },
     "execution_count": 25,
     "metadata": {},
     "output_type": "execute_result"
    }
   ],
   "source": [
    "syracuse 3"
   ]
  },
  {
   "attachments": {},
   "cell_type": "markdown",
   "metadata": {},
   "source": [
    "````{admonition} Question\n",
    " Écrire une fonction `croissante l` qui détermine si la liste `l` est strictement croissante.\n",
    "````"
   ]
  },
  {
   "cell_type": "markdown",
   "execution_count": 26,
   "metadata": {
    "tags": [
     "cor"
    ],
    "vscode": {
     "languageId": "ocaml"
    }
   },
   "source": [
    "````{admonition} Solution\n",
    ":class: tip, dropdown\n",
    "``` ocaml\n",
    "let rec croissante l = match l with\n",
    "  | [] | [_] -> true\n",
    "  | x::y::l -> x < y && croissante (y::l)\n",
    "```\n",
    "``` \n",
    "val croissante : 'a list -> bool = <fun>\n",
    "\n",
    "\n",
    "```\n",
    "````"
   ]
  },
  {
   "cell_type": "code",
   "execution_count": 27,
   "metadata": {
    "vscode": {
     "languageId": "ocaml"
    }
   },
   "outputs": [
    {
     "data": {
      "text/plain": [
       "- : bool = true\n"
      ]
     },
     "execution_count": 27,
     "metadata": {},
     "output_type": "execute_result"
    }
   ],
   "source": [
    "croissante [1;2;3;4;5] && not (croissante [1;2;3;4;3])"
   ]
  },
  {
   "attachments": {},
   "cell_type": "markdown",
   "metadata": {},
   "source": [
    "````{admonition} Question\n",
    " Écrire une fonction `concat : 'a list list -> 'a list` qui concatène toutes les listes d'une liste de listes.\n",
    "````"
   ]
  },
  {
   "cell_type": "markdown",
   "execution_count": 28,
   "metadata": {
    "tags": [
     "cor"
    ],
    "vscode": {
     "languageId": "ocaml"
    }
   },
   "source": [
    "````{admonition} Solution\n",
    ":class: tip, dropdown\n",
    "``` ocaml\n",
    "let rec concat l = match l with\n",
    "  | [] -> []\n",
    "  | x::l -> x @ concat l\n",
    "```\n",
    "``` \n",
    "val concat : 'a list list -> 'a list = <fun>\n",
    "\n",
    "\n",
    "```\n",
    "````"
   ]
  },
  {
   "cell_type": "code",
   "execution_count": 29,
   "metadata": {
    "vscode": {
     "languageId": "ocaml"
    }
   },
   "outputs": [
    {
     "data": {
      "text/plain": [
       "- : int list = [1; 2; 3; 4; 5; 6; 7; 8; 9]\n"
      ]
     },
     "execution_count": 29,
     "metadata": {},
     "output_type": "execute_result"
    }
   ],
   "source": [
    "concat [[1; 2; 3]; [4; 5; 6]; [7; 8; 9]]"
   ]
  },
  {
   "attachments": {},
   "cell_type": "markdown",
   "metadata": {},
   "source": [
    "## Matrices"
   ]
  },
  {
   "attachments": {},
   "cell_type": "markdown",
   "metadata": {},
   "source": [
    "````{admonition} Question\n",
    " Écrire une fonction `creer_matrice n m x` qui crée une matrice de taille $n \\times m$ dont tous les éléments sont égaux à `x`, sans utiliser `Array.make_matrix` (mais en utilisant `Array.make`).\n",
    "````"
   ]
  },
  {
   "cell_type": "markdown",
   "execution_count": 30,
   "metadata": {
    "tags": [
     "cor"
    ],
    "vscode": {
     "languageId": "ocaml"
    }
   },
   "source": [
    "````{admonition} Solution\n",
    ":class: tip, dropdown\n",
    "``` ocaml\n",
    "let creer_matrice n p x =\n",
    "  let m = Array.make n [||] in\n",
    "  for i = 0 to n-1 do\n",
    "    m.(i) <- Array.make p x\n",
    "  done;\n",
    "  m\n",
    "```\n",
    "``` \n",
    "val creer_matrice : int -> int -> 'a -> 'a array array = <fun>\n",
    "\n",
    "\n",
    "```\n",
    "````"
   ]
  },
  {
   "cell_type": "code",
   "execution_count": 31,
   "metadata": {
    "vscode": {
     "languageId": "ocaml"
    }
   },
   "outputs": [
    {
     "data": {
      "text/plain": [
       "- : int array array = [|[|2; 2; 2; 2|]; [|2; 2; 2; 2|]; [|2; 2; 2; 2|]|]\n"
      ]
     },
     "execution_count": 31,
     "metadata": {},
     "output_type": "execute_result"
    }
   ],
   "source": [
    "creer_matrice 3 4 2"
   ]
  },
  {
   "attachments": {},
   "cell_type": "markdown",
   "metadata": {},
   "source": [
    "````{admonition} Question\n",
    " Écrire une fonction `transposee : int array array -> int array array` qui renvoie la transposée d'une matrice.\n",
    "````"
   ]
  },
  {
   "cell_type": "markdown",
   "execution_count": 32,
   "metadata": {
    "tags": [
     "cor"
    ],
    "vscode": {
     "languageId": "ocaml"
    }
   },
   "source": [
    "````{admonition} Solution\n",
    ":class: tip, dropdown\n",
    "``` ocaml\n",
    "let transposee m =\n",
    "  let n, p = Array.length m, Array.length m.(0) in\n",
    "  let tm = creer_matrice p n m.(0).(0) in\n",
    "  for i = 0 to n - 1 do\n",
    "    for j = 0 to p - 1 do\n",
    "      tm.(j).(i) <- m.(i).(j)\n",
    "    done\n",
    "  done;\n",
    "  tm\n",
    "```\n",
    "``` \n",
    "val transposee : 'a array array -> 'a array array = <fun>\n",
    "\n",
    "\n",
    "```\n",
    "````"
   ]
  },
  {
   "cell_type": "code",
   "execution_count": 33,
   "metadata": {
    "vscode": {
     "languageId": "ocaml"
    }
   },
   "outputs": [
    {
     "data": {
      "text/plain": [
       "- : int array array = [|[|1; 4|]; [|2; 5|]; [|3; 6|]|]\n"
      ]
     },
     "execution_count": 33,
     "metadata": {},
     "output_type": "execute_result"
    }
   ],
   "source": [
    "transposee [| [|1;2;3|]; [|4;5;6|] |]"
   ]
  },
  {
   "attachments": {},
   "cell_type": "markdown",
   "metadata": {},
   "source": [
    "````{admonition} Question\n",
    " Écrire une fonction `egal m1 m2` qui renvoie `true` si les matrices `m1` et `m2` sont égales, `false` sinon.\n",
    "````"
   ]
  },
  {
   "cell_type": "markdown",
   "execution_count": 34,
   "metadata": {
    "tags": [
     "cor"
    ],
    "vscode": {
     "languageId": "ocaml"
    }
   },
   "source": [
    "````{admonition} Solution\n",
    ":class: tip, dropdown\n",
    "``` ocaml\n",
    "let egal m1 m2 =\n",
    "  let n, p = Array.length m1, Array.length m1.(0) in\n",
    "  if n <> Array.length m2 || p <> Array.length m2.(0) then false\n",
    "  else let res = ref true in\n",
    "  for i = 0 to n - 1 do\n",
    "    for j = 0 to p - 1 do\n",
    "      res := !res && m1.(i).(j) = m2.(i).(j)\n",
    "    done\n",
    "  done;\n",
    "  !res\n",
    "```\n",
    "``` \n",
    "val egal : 'a array array -> 'a array array -> bool = <fun>\n",
    "\n",
    "\n",
    "```\n",
    "````"
   ]
  },
  {
   "cell_type": "code",
   "execution_count": 35,
   "metadata": {
    "vscode": {
     "languageId": "ocaml"
    }
   },
   "outputs": [
    {
     "data": {
      "text/plain": [
       "- : bool = true\n"
      ]
     },
     "execution_count": 35,
     "metadata": {},
     "output_type": "execute_result"
    }
   ],
   "source": [
    "egal [| [|1;2;3|]; [|4;5;6|] |] [| [|1;2;3|]; [|4;5;6|] |] && (not (egal [| [|1;2;3|]; [|4;5;6|] |] [| [|1;2;3|]; [|4;5;7|] |]))"
   ]
  },
  {
   "attachments": {},
   "cell_type": "markdown",
   "metadata": {},
   "source": [
    "````{admonition} Question\n",
    " Écrire une fonction `symetrique m` qui détermine si la matrice `m` est symétrique.\n",
    "````"
   ]
  },
  {
   "cell_type": "markdown",
   "execution_count": 36,
   "metadata": {
    "tags": [
     "cor"
    ],
    "vscode": {
     "languageId": "ocaml"
    }
   },
   "source": [
    "````{admonition} Solution\n",
    ":class: tip, dropdown\n",
    "``` ocaml\n",
    "let symetrique m =\n",
    "  egal m (transposee m)\n",
    "```\n",
    "``` \n",
    "val symetrique : 'a array array -> bool = <fun>\n",
    "\n",
    "\n",
    "```\n",
    "````"
   ]
  },
  {
   "cell_type": "code",
   "execution_count": 37,
   "metadata": {
    "vscode": {
     "languageId": "ocaml"
    }
   },
   "outputs": [
    {
     "data": {
      "text/plain": [
       "- : bool = true\n"
      ]
     },
     "execution_count": 37,
     "metadata": {},
     "output_type": "execute_result"
    },
    {
     "data": {
      "text/plain": [
       "- : bool = false\n"
      ]
     },
     "execution_count": 37,
     "metadata": {},
     "output_type": "execute_result"
    }
   ],
   "source": [
    "symetrique [| [|1;2;3|]; [|2;4;5|]; [|3;5;6|] |];;\n",
    "symetrique [| [|1;2;3|]; [|2;4;5|]; [|3;7;6|] |]"
   ]
  },
  {
   "attachments": {},
   "cell_type": "markdown",
   "metadata": {},
   "source": [
    "## Graphes"
   ]
  },
  {
   "attachments": {},
   "cell_type": "markdown",
   "metadata": {},
   "source": [
    "````{admonition} Question\n",
    " Écrire une fonction `degre : int -> int array array -> int` qui calcule le degré d'un sommet dans un graphe donné par sa matrice d'adjacence.\n",
    "````"
   ]
  },
  {
   "cell_type": "markdown",
   "execution_count": 38,
   "metadata": {
    "tags": [
     "cor"
    ],
    "vscode": {
     "languageId": "ocaml"
    }
   },
   "source": [
    "````{admonition} Solution\n",
    ":class: tip, dropdown\n",
    "``` ocaml\n",
    "let degre v m =\n",
    "  let n = Array.length m in\n",
    "  let res = ref 0 in\n",
    "  for i = 0 to n - 1 do\n",
    "    if m.(v).(i) <> 0 then res := !res + 1\n",
    "  done;\n",
    "  !res\n",
    "```\n",
    "``` \n",
    "val degre : int -> int array array -> int = <fun>\n",
    "\n",
    "\n",
    "```\n",
    "````"
   ]
  },
  {
   "attachments": {},
   "cell_type": "markdown",
   "metadata": {},
   "source": [
    "````{admonition} Question\n",
    " Écrire une fonction `complet : int -> int list array` qui renvoie un graphe complet de `n` sommets, sous forme de liste d'adjacence.\n",
    "````"
   ]
  },
  {
   "cell_type": "markdown",
   "execution_count": 39,
   "metadata": {
    "tags": [
     "cor"
    ],
    "vscode": {
     "languageId": "ocaml"
    }
   },
   "source": [
    "````{admonition} Solution\n",
    ":class: tip, dropdown\n",
    "``` ocaml\n",
    "let complet n = \n",
    "  let g = Array.make n [] in\n",
    "  for i = 0 to n - 1 do\n",
    "    for j = 0 to n - 1 do\n",
    "      if i <> j then g.(i) <- j::g.(i)\n",
    "    done\n",
    "  done;\n",
    "  g\n",
    "```\n",
    "``` \n",
    "val complet : int -> int list array = <fun>\n",
    "\n",
    "\n",
    "```\n",
    "````"
   ]
  },
  {
   "cell_type": "code",
   "execution_count": 40,
   "metadata": {
    "vscode": {
     "languageId": "ocaml"
    }
   },
   "outputs": [
    {
     "data": {
      "text/plain": [
       "- : int list array = [|[3; 2; 1]; [3; 2; 0]; [3; 1; 0]; [2; 1; 0]|]\n"
      ]
     },
     "execution_count": 40,
     "metadata": {},
     "output_type": "execute_result"
    }
   ],
   "source": [
    "complet 4"
   ]
  },
  {
   "attachments": {},
   "cell_type": "markdown",
   "metadata": {},
   "source": [
    "````{admonition} Question\n",
    " Écrire une fonction `nb_aretes : int list array -> int` qui calcule le nombre d'arêtes d'un graphe non orienté donné par liste d'adjacence.\n",
    "````"
   ]
  },
  {
   "cell_type": "markdown",
   "execution_count": 41,
   "metadata": {
    "tags": [
     "cor"
    ],
    "vscode": {
     "languageId": "ocaml"
    }
   },
   "source": [
    "````{admonition} Solution\n",
    ":class: tip, dropdown\n",
    "``` ocaml\n",
    "let nb_aretes g =\n",
    "  let n = Array.length g in\n",
    "  let res = ref 0 in\n",
    "  for i = 0 to n - 1 do\n",
    "    res := !res + List.length g.(i)\n",
    "  done;\n",
    "  !res/2\n",
    "```\n",
    "``` \n",
    "val nb_aretes : 'a list array -> int = <fun>\n",
    "\n",
    "\n",
    "```\n",
    "````"
   ]
  },
  {
   "cell_type": "code",
   "execution_count": 42,
   "metadata": {
    "vscode": {
     "languageId": "ocaml"
    }
   },
   "outputs": [
    {
     "data": {
      "text/plain": [
       "- : int = 6\n"
      ]
     },
     "execution_count": 42,
     "metadata": {},
     "output_type": "execute_result"
    }
   ],
   "source": [
    "nb_aretes (complet 4)"
   ]
  },
  {
   "attachments": {},
   "cell_type": "markdown",
   "metadata": {},
   "source": [
    "````{admonition} Question\n",
    " Écrire une fonction `list_to_mat : int list array -> int array array` qui transforme une liste d'adjacence en matrice d'adjacence.\n",
    "````"
   ]
  },
  {
   "cell_type": "markdown",
   "execution_count": 43,
   "metadata": {
    "tags": [
     "cor"
    ],
    "vscode": {
     "languageId": "ocaml"
    }
   },
   "source": [
    "````{admonition} Solution\n",
    ":class: tip, dropdown\n",
    "``` ocaml\n",
    "let list_to_mat l =\n",
    "  let n = Array.length l in\n",
    "  let m = Array.make_matrix n n 0 in\n",
    "  for i = 0 to n - 1 do\n",
    "    List.iter (fun j -> m.(i).(j) <- 1) l.(i) \n",
    "    (* on peut aussi définir une fonction aux récursive *)\n",
    "  done;\n",
    "  m\n",
    "```\n",
    "``` \n",
    "val list_to_mat : int list array -> int array array = <fun>\n",
    "\n",
    "\n",
    "```\n",
    "````"
   ]
  },
  {
   "cell_type": "code",
   "execution_count": 44,
   "metadata": {
    "vscode": {
     "languageId": "ocaml"
    }
   },
   "outputs": [
    {
     "data": {
      "text/plain": [
       "- : int array array =\n",
       "[|[|0; 1; 1; 1|]; [|1; 0; 1; 1|]; [|1; 1; 0; 1|]; [|1; 1; 1; 0|]|]\n"
      ]
     },
     "execution_count": 44,
     "metadata": {},
     "output_type": "execute_result"
    }
   ],
   "source": [
    "list_to_mat (complet 4)"
   ]
  },
  {
   "attachments": {},
   "cell_type": "markdown",
   "metadata": {},
   "source": [
    "````{admonition} Question\n",
    " Écrire une fonction `mat_to_list : int array array -> int list array` qui convertit une matrice d'adjacence en liste d'adjacence.\n",
    "````"
   ]
  },
  {
   "cell_type": "markdown",
   "execution_count": 45,
   "metadata": {
    "tags": [
     "cor"
    ],
    "vscode": {
     "languageId": "ocaml"
    }
   },
   "source": [
    "````{admonition} Solution\n",
    ":class: tip, dropdown\n",
    "``` ocaml\n",
    "let mat_to_list m =\n",
    "  let n = Array.length m in\n",
    "  let g = Array.make n [] in\n",
    "  for i = 0 to n - 1 do\n",
    "    for j = 0 to n - 1 do\n",
    "      if m.(i).(j) <> 0 then g.(i) <- j::g.(i)\n",
    "    done\n",
    "  done;\n",
    "  g\n",
    "```\n",
    "``` \n",
    "val mat_to_list : int array array -> int list array = <fun>\n",
    "\n",
    "\n",
    "```\n",
    "````"
   ]
  },
  {
   "cell_type": "code",
   "execution_count": 46,
   "metadata": {
    "vscode": {
     "languageId": "ocaml"
    }
   },
   "outputs": [
    {
     "data": {
      "text/plain": [
       "- : int list array = [|[3; 2; 1]; [3; 2; 0]; [3; 1; 0]; [2; 1; 0]|]\n"
      ]
     },
     "execution_count": 46,
     "metadata": {},
     "output_type": "execute_result"
    }
   ],
   "source": [
    "mat_to_list (list_to_mat (complet 4))"
   ]
  },
  {
   "attachments": {},
   "cell_type": "markdown",
   "metadata": {},
   "source": [
    "````{admonition} Question\n",
    " Écrire une fonction `connexe : int list array -> bool` qui détermine si un graphe représenté par liste d'adjacence est connexe.\n",
    "````"
   ]
  },
  {
   "cell_type": "markdown",
   "execution_count": 47,
   "metadata": {
    "tags": [
     "cor"
    ],
    "vscode": {
     "languageId": "ocaml"
    }
   },
   "source": [
    "````{admonition} Solution\n",
    ":class: tip, dropdown\n",
    "``` ocaml\n",
    "(* on peut faire un parcours (DFS ou BFS) et vérifier que tous les sommets sont vus *)\n",
    "let connexe g =\n",
    "  let n = Array.length g in\n",
    "  let vus = Array.make n false in\n",
    "  let rec aux i =\n",
    "    if not vus.(i) then (\n",
    "      vus.(i) <- true;\n",
    "      List.iter aux g.(i)\n",
    "    )\n",
    "  in\n",
    "  aux 0;\n",
    "  let res = ref true in\n",
    "  for i = 0 to n - 1 do\n",
    "    res := !res && vus.(i)\n",
    "  done;\n",
    "  !res\n",
    "```\n",
    "``` \n",
    "val connexe : int list array -> bool = <fun>\n",
    "\n",
    "\n",
    "```\n",
    "````"
   ]
  },
  {
   "cell_type": "code",
   "execution_count": 48,
   "metadata": {
    "vscode": {
     "languageId": "ocaml"
    }
   },
   "outputs": [
    {
     "data": {
      "text/plain": [
       "- : bool = true\n"
      ]
     },
     "execution_count": 48,
     "metadata": {},
     "output_type": "execute_result"
    }
   ],
   "source": [
    "connexe (complet 4) && not (connexe [| [2]; [3]; [0]; [1] |])"
   ]
  },
  {
   "attachments": {},
   "cell_type": "markdown",
   "metadata": {},
   "source": [
    "## Arbres\n",
    "\n",
    "On définit un arbre binaire par le type suivant :"
   ]
  },
  {
   "cell_type": "code",
   "execution_count": 2,
   "metadata": {
    "vscode": {
     "languageId": "ocaml"
    }
   },
   "outputs": [
    {
     "data": {
      "text/plain": [
       "type 'a arbre = V | N of 'a * 'a arbre * 'a arbre\n"
      ]
     },
     "execution_count": 2,
     "metadata": {},
     "output_type": "execute_result"
    }
   ],
   "source": [
    "type 'a arbre = V | N of 'a * 'a arbre * 'a arbre"
   ]
  },
  {
   "attachments": {},
   "cell_type": "markdown",
   "metadata": {},
   "source": [
    "````{admonition} Question\n",
    " Définir l'arbre suivant en OCaml :\n",
    "````"
   ]
  },
  {
   "attachments": {},
   "cell_type": "markdown",
   "metadata": {},
   "source": [
    "<center><img src=https://raw.githubusercontent.com/fortierq/tikz-pdf/main/tree/binary/binary.png width=300></center>"
   ]
  },
  {
   "cell_type": "markdown",
   "execution_count": 9,
   "metadata": {
    "tags": [
     "cor"
    ],
    "vscode": {
     "languageId": "ocaml"
    }
   },
   "source": [
    "````{admonition} Solution\n",
    ":class: tip, dropdown\n",
    "``` ocaml\n",
    "let a = N(0, N(1, N(2, V, V), N(3, N(4, V, V), V)), N(5, N(6, V, V), N(7, V, V)))\n",
    "```\n",
    "``` \n",
    "val a : int arbre =\n",
    "  N (0, N (1, N (2, V, V), N (3, N (4, V, V), V)),\n",
    "   N (5, N (6, V, V), N (7, V, V)))\n",
    "\n",
    "\n",
    "```\n",
    "````"
   ]
  },
  {
   "attachments": {},
   "cell_type": "markdown",
   "metadata": {},
   "source": [
    "````{admonition} Question\n",
    " Écrire une fonction `hauteur` pour calculer la hauteur d'un arbre. Par convention, la hauteur d'un arbre vide est $-1$.\n",
    "````"
   ]
  },
  {
   "cell_type": "markdown",
   "execution_count": 10,
   "metadata": {
    "tags": [
     "cor"
    ],
    "vscode": {
     "languageId": "ocaml"
    }
   },
   "source": [
    "````{admonition} Solution\n",
    ":class: tip, dropdown\n",
    "``` ocaml\n",
    "let rec hauteur a = match a with\n",
    "  | V -> -1\n",
    "  | N(r, g, d) -> 1 + max (hauteur g) (hauteur d)\n",
    "```\n",
    "``` \n",
    "val hauteur : 'a arbre -> int = <fun>\n",
    "\n",
    "\n",
    "```\n",
    "````"
   ]
  },
  {
   "cell_type": "code",
   "execution_count": 11,
   "metadata": {
    "vscode": {
     "languageId": "ocaml"
    }
   },
   "outputs": [
    {
     "data": {
      "text/plain": [
       "- : int = 3\n"
      ]
     },
     "execution_count": 11,
     "metadata": {},
     "output_type": "execute_result"
    }
   ],
   "source": [
    "hauteur a"
   ]
  },
  {
   "attachments": {},
   "cell_type": "markdown",
   "metadata": {},
   "source": [
    "````{admonition} Question\n",
    " Écrire une fonction `nb_feuilles` pour calculer le nombre de feuilles d'un arbre.\n",
    "````"
   ]
  },
  {
   "cell_type": "markdown",
   "execution_count": 12,
   "metadata": {
    "tags": [
     "cor"
    ],
    "vscode": {
     "languageId": "ocaml"
    }
   },
   "source": [
    "````{admonition} Solution\n",
    ":class: tip, dropdown\n",
    "``` ocaml\n",
    "let rec nb_feuilles a = match a with\n",
    "  | V -> 0\n",
    "  | N(r, V, V) -> 1\n",
    "  | N(r, g, d) -> nb_feuilles g + nb_feuilles d\n",
    "```\n",
    "``` \n",
    "val nb_feuilles : 'a arbre -> int = <fun>\n",
    "\n",
    "\n",
    "```\n",
    "````"
   ]
  },
  {
   "cell_type": "code",
   "execution_count": 13,
   "metadata": {
    "vscode": {
     "languageId": "ocaml"
    }
   },
   "outputs": [
    {
     "data": {
      "text/plain": [
       "- : int = 4\n"
      ]
     },
     "execution_count": 13,
     "metadata": {},
     "output_type": "execute_result"
    }
   ],
   "source": [
    "nb_feuilles a"
   ]
  },
  {
   "attachments": {},
   "cell_type": "markdown",
   "metadata": {},
   "source": [
    "````{admonition} Question\n",
    " Modifier la fonction précédente pour renvoyer la liste des feuilles.\n",
    "````"
   ]
  },
  {
   "cell_type": "markdown",
   "execution_count": 14,
   "metadata": {
    "tags": [
     "cor"
    ],
    "vscode": {
     "languageId": "ocaml"
    }
   },
   "source": [
    "````{admonition} Solution\n",
    ":class: tip, dropdown\n",
    "``` ocaml\n",
    "let rec nb_feuilles a = match a with\n",
    "  | V -> []\n",
    "  | N(r, V, V) -> [r]\n",
    "  | N(r, g, d) -> (nb_feuilles g) @ nb_feuilles d\n",
    "```\n",
    "``` \n",
    "val nb_feuilles : 'a arbre -> 'a list = <fun>\n",
    "\n",
    "\n",
    "```\n",
    "````"
   ]
  },
  {
   "cell_type": "code",
   "execution_count": 15,
   "metadata": {
    "vscode": {
     "languageId": "ocaml"
    }
   },
   "outputs": [
    {
     "data": {
      "text/plain": [
       "- : int list = [2; 4; 6; 7]\n"
      ]
     },
     "execution_count": 15,
     "metadata": {},
     "output_type": "execute_result"
    }
   ],
   "source": [
    "nb_feuilles a"
   ]
  },
  {
   "attachments": {},
   "cell_type": "markdown",
   "metadata": {},
   "source": [
    "````{admonition} Question\n",
    " Écrire une fonction `complet : int -> int arbre` qui renvoie un arbre binaire complet de hauteur donnée, et dont toutes les étiquettes sont $0$.\n",
    "````"
   ]
  },
  {
   "cell_type": "markdown",
   "execution_count": 17,
   "metadata": {
    "tags": [
     "cor"
    ],
    "vscode": {
     "languageId": "ocaml"
    }
   },
   "source": [
    "````{admonition} Solution\n",
    ":class: tip, dropdown\n",
    "``` ocaml\n",
    "let rec complet h =\n",
    "  if h = -1 then V\n",
    "  else N(0, complet (h-1), complet (h-1))\n",
    "```\n",
    "``` \n",
    "val complet : int -> int arbre = <fun>\n",
    "\n",
    "\n",
    "```\n",
    "````"
   ]
  },
  {
   "cell_type": "code",
   "execution_count": 18,
   "metadata": {
    "vscode": {
     "languageId": "ocaml"
    }
   },
   "outputs": [
    {
     "data": {
      "text/plain": [
       "- : int arbre =\n",
       "N (0,\n",
       " N (0, N (0, N (0, V, V), N (0, V, V)), N (0, N (0, V, V), N (0, V, V))),\n",
       " N (0, N (0, N (0, V, V), N (0, V, V)), N (0, N (0, V, V), N (0, V, V))))\n"
      ]
     },
     "execution_count": 18,
     "metadata": {},
     "output_type": "execute_result"
    }
   ],
   "source": [
    "complet 3"
   ]
  },
  {
   "attachments": {},
   "cell_type": "markdown",
   "metadata": {},
   "source": [
    "## Logique\n",
    "\n",
    "On définit le type suivant de formule logique, où les variables sont numérotées par des entiers :"
   ]
  },
  {
   "cell_type": "code",
   "execution_count": 19,
   "metadata": {
    "vscode": {
     "languageId": "ocaml"
    }
   },
   "outputs": [
    {
     "data": {
      "text/plain": [
       "type formule =\n",
       "    Var of int\n",
       "  | Non of formule\n",
       "  | Et of formule * formule\n",
       "  | Ou of formule * formule\n"
      ]
     },
     "execution_count": 19,
     "metadata": {},
     "output_type": "execute_result"
    }
   ],
   "source": [
    "type formule = \n",
    "  | Var of int\n",
    "  | Non of formule\n",
    "  | Et of formule * formule\n",
    "  | Ou of formule * formule"
   ]
  },
  {
   "cell_type": "code",
   "execution_count": 29,
   "metadata": {
    "vscode": {
     "languageId": "ocaml"
    }
   },
   "outputs": [
    {
     "data": {
      "text/plain": [
       "val f : formule = Et (Non (Non (Var 1)), Ou (Var 2, Non (Var 3)))\n"
      ]
     },
     "execution_count": 29,
     "metadata": {},
     "output_type": "execute_result"
    }
   ],
   "source": [
    "let f = Et(Non (Non (Var 1)), Ou(Var 2, Non (Var 3))) (* exemple de formule *)"
   ]
  },
  {
   "attachments": {},
   "cell_type": "markdown",
   "metadata": {},
   "source": [
    "````{admonition} Question\n",
    " Écrire une fonction `taille f` qui calcule la taille d'une formule logique, c'est à dire le nombre de connecteurs et de variables.\n",
    "````"
   ]
  },
  {
   "cell_type": "markdown",
   "execution_count": 25,
   "metadata": {
    "tags": [
     "cor"
    ],
    "vscode": {
     "languageId": "ocaml"
    }
   },
   "source": [
    "````{admonition} Solution\n",
    ":class: tip, dropdown\n",
    "``` ocaml\n",
    "let rec taille f = match f with\n",
    "  | Var _ -> 1\n",
    "  | Non f -> 1 + taille f\n",
    "  | Et (f1, f2) -> 1 + taille f1 + taille f2\n",
    "  | Ou (f1, f2) -> 1 + taille f1 + taille f2\n",
    "```\n",
    "``` \n",
    "val taille : formule -> int = <fun>\n",
    "\n",
    "\n",
    "```\n",
    "````"
   ]
  },
  {
   "cell_type": "code",
   "execution_count": 30,
   "metadata": {
    "vscode": {
     "languageId": "ocaml"
    }
   },
   "outputs": [
    {
     "data": {
      "text/plain": [
       "- : int = 8\n"
      ]
     },
     "execution_count": 30,
     "metadata": {},
     "output_type": "execute_result"
    }
   ],
   "source": [
    "taille f"
   ]
  },
  {
   "attachments": {},
   "cell_type": "markdown",
   "metadata": {},
   "source": [
    "````{admonition} Question\n",
    " Écrire une fonction `simplifie` qui simplifie les $\\lnot \\lnot$ à l'intérieur d'une formule.\n",
    "````"
   ]
  },
  {
   "cell_type": "markdown",
   "execution_count": 21,
   "metadata": {
    "tags": [
     "cor"
    ],
    "vscode": {
     "languageId": "ocaml"
    }
   },
   "source": [
    "````{admonition} Solution\n",
    ":class: tip, dropdown\n",
    "``` ocaml\n",
    "let rec simplifie f = match f with\n",
    "  | Non g -> (match g with\n",
    "              | Non h -> simplifie h\n",
    "              | _ -> simplifie g)\n",
    "  | Et(g, h) -> Et(simplifie g, simplifie h)\n",
    "  | Ou(g, h) -> Ou(simplifie g, simplifie h)\n",
    "  | _ -> f\n",
    "```\n",
    "``` \n",
    "val simplifie : formule -> formule = <fun>\n",
    "\n",
    "\n",
    "```\n",
    "````"
   ]
  },
  {
   "cell_type": "code",
   "execution_count": 31,
   "metadata": {
    "vscode": {
     "languageId": "ocaml"
    }
   },
   "outputs": [
    {
     "data": {
      "text/plain": [
       "- : formule = Et (Var 1, Ou (Var 2, Var 3))\n"
      ]
     },
     "execution_count": 31,
     "metadata": {},
     "output_type": "execute_result"
    }
   ],
   "source": [
    "simplifie f"
   ]
  },
  {
   "attachments": {},
   "cell_type": "markdown",
   "metadata": {},
   "source": [
    "## Langages rationnels"
   ]
  },
  {
   "cell_type": "code",
   "execution_count": 32,
   "metadata": {
    "vscode": {
     "languageId": "ocaml"
    }
   },
   "outputs": [
    {
     "data": {
      "text/plain": [
       "type exp_rat =\n",
       "    Epsilon\n",
       "  | Vide\n",
       "  | L of char\n",
       "  | Etoile of exp_rat\n",
       "  | Union of exp_rat * exp_rat\n",
       "  | Concat of exp_rat * exp_rat\n"
      ]
     },
     "execution_count": 32,
     "metadata": {},
     "output_type": "execute_result"
    }
   ],
   "source": [
    "type exp_rat = \n",
    "  Epsilon | Vide \n",
    "  | L of char\n",
    "  | Etoile of exp_rat\n",
    "  | Union of exp_rat * exp_rat\n",
    "  | Concat of exp_rat * exp_rat"
   ]
  },
  {
   "attachments": {},
   "cell_type": "markdown",
   "metadata": {},
   "source": [
    "````{admonition} Question\n",
    " Écrire une fonction `vide : exp_rat -> bool` qui détermine si une expression rationnelle est vide (ne contient aucun mot).\n",
    "````"
   ]
  },
  {
   "cell_type": "markdown",
   "execution_count": 33,
   "metadata": {
    "tags": [
     "cor"
    ],
    "vscode": {
     "languageId": "ocaml"
    }
   },
   "source": [
    "````{admonition} Solution\n",
    ":class: tip, dropdown\n",
    "``` ocaml\n",
    "let rec vide e = match e with\n",
    "  | Epsilon -> false\n",
    "  | Vide -> true\n",
    "  | L _ -> false\n",
    "  | Etoile _ -> false\n",
    "  | Union (e1, e2) -> vide e1 && vide e2\n",
    "  | Concat (e1, e2) -> vide e1 || vide e2\n",
    "```\n",
    "``` \n",
    "val vide : exp_rat -> bool = <fun>\n",
    "\n",
    "\n",
    "```\n",
    "````"
   ]
  },
  {
   "cell_type": "code",
   "execution_count": 39,
   "metadata": {
    "vscode": {
     "languageId": "ocaml"
    }
   },
   "outputs": [
    {
     "data": {
      "text/plain": [
       "- : bool = false\n"
      ]
     },
     "execution_count": 39,
     "metadata": {},
     "output_type": "execute_result"
    },
    {
     "data": {
      "text/plain": [
       "- : bool = true\n"
      ]
     },
     "execution_count": 39,
     "metadata": {},
     "output_type": "execute_result"
    }
   ],
   "source": [
    "vide (Concat (L 'a', Etoile Vide));;\n",
    "vide (Union(Vide, Vide));;"
   ]
  },
  {
   "attachments": {},
   "cell_type": "markdown",
   "metadata": {},
   "source": [
    "````{admonition} Question\n",
    " Écrire une fonction `epsilon` déterminant si une expression rationnelle contient **uniquement** le mot $\\epsilon$.\n",
    "````"
   ]
  },
  {
   "cell_type": "markdown",
   "execution_count": 46,
   "metadata": {
    "tags": [
     "cor"
    ],
    "vscode": {
     "languageId": "ocaml"
    }
   },
   "source": [
    "````{admonition} Solution\n",
    ":class: tip, dropdown\n",
    "``` ocaml\n",
    "let rec epsilon e = match e with\n",
    "  | Epsilon -> true\n",
    "  | Vide -> false\n",
    "  | L _ -> false\n",
    "  | Etoile e1 -> epsilon e1 || vide e1\n",
    "  | Union (e1, e2) -> (epsilon e1 && epsilon e2) || (vide e1 && epsilon e2) || (epsilon e1 && vide e2)\n",
    "  | Concat (e1, e2) -> epsilon e1 && epsilon e2\n",
    "```\n",
    "``` \n",
    "val epsilon : exp_rat -> bool = <fun>\n",
    "\n",
    "\n",
    "```\n",
    "````"
   ]
  },
  {
   "cell_type": "code",
   "execution_count": 47,
   "metadata": {
    "vscode": {
     "languageId": "ocaml"
    }
   },
   "outputs": [
    {
     "data": {
      "text/plain": [
       "- : bool = false\n"
      ]
     },
     "execution_count": 47,
     "metadata": {},
     "output_type": "execute_result"
    },
    {
     "data": {
      "text/plain": [
       "- : bool = true\n"
      ]
     },
     "execution_count": 47,
     "metadata": {},
     "output_type": "execute_result"
    }
   ],
   "source": [
    "epsilon (Concat (L 'a', Etoile Vide));;\n",
    "epsilon (Union(Vide, Epsilon));;"
   ]
  },
  {
   "attachments": {},
   "cell_type": "markdown",
   "metadata": {},
   "source": [
    "````{admonition} Question\n",
    " Écrire une fonction `infini : exp_rat -> bool` qui détermine si une expression rationnelle contient une infinité de mots.\n",
    "````"
   ]
  },
  {
   "cell_type": "markdown",
   "execution_count": 49,
   "metadata": {
    "tags": [
     "cor"
    ],
    "vscode": {
     "languageId": "ocaml"
    }
   },
   "source": [
    "````{admonition} Solution\n",
    ":class: tip, dropdown\n",
    "``` ocaml\n",
    "(* c'est le cas ssi l'expression contient l'étoile d'une expression non vide, non égale à epsilon *)\n",
    "let rec infini e = match e with\n",
    "  | Epsilon -> false\n",
    "  | Vide -> false\n",
    "  | L _ -> false\n",
    "  | Etoile e1 -> not (vide e1) && not (epsilon e1)\n",
    "  | Union (e1, e2) -> infini e1 || infini e2\n",
    "  | Concat (e1, e2) -> (infini e1 && not (vide e2)) || (infini e2 && not (vide e1))\n",
    "```\n",
    "``` \n",
    "val infini : exp_rat -> bool = <fun>\n",
    "\n",
    "\n",
    "```\n",
    "````"
   ]
  },
  {
   "cell_type": "code",
   "execution_count": 54,
   "metadata": {
    "vscode": {
     "languageId": "ocaml"
    }
   },
   "outputs": [
    {
     "data": {
      "text/plain": [
       "- : bool = false\n"
      ]
     },
     "execution_count": 54,
     "metadata": {},
     "output_type": "execute_result"
    },
    {
     "data": {
      "text/plain": [
       "- : bool = false\n"
      ]
     },
     "execution_count": 54,
     "metadata": {},
     "output_type": "execute_result"
    },
    {
     "data": {
      "text/plain": [
       "- : bool = true\n"
      ]
     },
     "execution_count": 54,
     "metadata": {},
     "output_type": "execute_result"
    }
   ],
   "source": [
    "infini (Concat (L 'a', Etoile Vide));;\n",
    "infini (Union(Etoile Vide, Epsilon));;\n",
    "infini (Union(Etoile (L '1'), Vide));;"
   ]
  },
  {
   "attachments": {},
   "cell_type": "markdown",
   "metadata": {},
   "source": [
    "## Automates\n",
    "\n",
    "On définit un automate (sans $\\epsilon$-transitions) par le type suivant :"
   ]
  },
  {
   "cell_type": "code",
   "execution_count": 55,
   "metadata": {
    "vscode": {
     "languageId": "ocaml"
    }
   },
   "outputs": [
    {
     "data": {
      "text/plain": [
       "type automate = {\n",
       "  initiaux : int list;\n",
       "  finaux : int list;\n",
       "  delta : (int * char, int list) Hashtbl.t;\n",
       "}\n"
      ]
     },
     "execution_count": 55,
     "metadata": {},
     "output_type": "execute_result"
    }
   ],
   "source": [
    "type automate = { \n",
    "\tinitiaux : int list;\n",
    "\tfinaux : int list;\n",
    "\tdelta : (int*char, int list) Hashtbl.t \n",
    "}"
   ]
  },
  {
   "attachments": {},
   "cell_type": "markdown",
   "metadata": {},
   "source": [
    "Voici un exemple :  \n",
    "<center><img src=https://raw.githubusercontent.com/fortierq/tikz-pdf/main/automata/a3/a3.png width=300></center>"
   ]
  },
  {
   "cell_type": "code",
   "execution_count": 71,
   "metadata": {
    "vscode": {
     "languageId": "ocaml"
    }
   },
   "outputs": [
    {
     "data": {
      "text/plain": [
       "val d : ('_weak3, '_weak4) Hashtbl.t = <abstr>\n"
      ]
     },
     "execution_count": 71,
     "metadata": {},
     "output_type": "execute_result"
    },
    {
     "data": {
      "text/plain": [
       "- : unit = ()\n"
      ]
     },
     "execution_count": 71,
     "metadata": {},
     "output_type": "execute_result"
    },
    {
     "data": {
      "text/plain": [
       "- : unit = ()\n"
      ]
     },
     "execution_count": 71,
     "metadata": {},
     "output_type": "execute_result"
    },
    {
     "data": {
      "text/plain": [
       "- : unit = ()\n"
      ]
     },
     "execution_count": 71,
     "metadata": {},
     "output_type": "execute_result"
    },
    {
     "data": {
      "text/plain": [
       "val a : automate = {initiaux = [0]; finaux = [2]; delta = <abstr>}\n"
      ]
     },
     "execution_count": 71,
     "metadata": {},
     "output_type": "execute_result"
    }
   ],
   "source": [
    "let d = Hashtbl.create 42;;\n",
    "Hashtbl.add d (0, 'a') [1];;\n",
    "Hashtbl.add d (1, 'a') [1];;\n",
    "Hashtbl.add d (1, 'b') [1; 2];;\n",
    "\n",
    "let a = {\n",
    "  initiaux = [0];\n",
    "  finaux = [2];\n",
    "  delta = d\n",
    "}"
   ]
  },
  {
   "attachments": {},
   "cell_type": "markdown",
   "metadata": {},
   "source": [
    "````{admonition} Question\n",
    " Écrire une fonction `epsilon : automate -> bool` déterminant si un automate reconnaît le mot $\\epsilon$.\n",
    "````"
   ]
  },
  {
   "cell_type": "markdown",
   "execution_count": 72,
   "metadata": {
    "tags": [
     "cor"
    ],
    "vscode": {
     "languageId": "ocaml"
    }
   },
   "source": [
    "````{admonition} Solution\n",
    ":class: tip, dropdown\n",
    "``` ocaml\n",
    "(* on teste si un état est à la fois initial et final *)\n",
    "let epsilon a =\n",
    "  let rec aux l = match l with\n",
    "    | [] -> false\n",
    "    | x::q -> List.mem x a.finaux || aux q in\n",
    "  aux a.initiaux\n",
    "```\n",
    "``` \n",
    "val epsilon : automate -> bool = <fun>\n",
    "\n",
    "\n",
    "```\n",
    "````"
   ]
  },
  {
   "cell_type": "code",
   "execution_count": 73,
   "metadata": {
    "vscode": {
     "languageId": "ocaml"
    }
   },
   "outputs": [
    {
     "data": {
      "text/plain": [
       "- : bool = false\n"
      ]
     },
     "execution_count": 73,
     "metadata": {},
     "output_type": "execute_result"
    },
    {
     "data": {
      "text/plain": [
       "val b : automate = {initiaux = [0]; finaux = [0]; delta = <abstr>}\n"
      ]
     },
     "execution_count": 73,
     "metadata": {},
     "output_type": "execute_result"
    },
    {
     "data": {
      "text/plain": [
       "- : bool = true\n"
      ]
     },
     "execution_count": 73,
     "metadata": {},
     "output_type": "execute_result"
    }
   ],
   "source": [
    "epsilon a;;\n",
    "let b = {a with finaux = [0]};; (* copie de a en changeant l'état final *)\n",
    "epsilon b;;"
   ]
  },
  {
   "attachments": {},
   "cell_type": "markdown",
   "metadata": {},
   "source": [
    "````{admonition} Question\n",
    " Écrire une fonction `deterministe : automate -> bool` déterminant si un automate est déterministe.  \n",
    "On pourra utiliser `Hashtbl.iter : ('a -> 'b -> unit) -> ('a, 'b) Hashtbl.t -> unit` telle que `Hashtbl.iter f h` applique `f k v` sur chaque couple `(k, v)` de la table `h`.\n",
    "````"
   ]
  },
  {
   "cell_type": "markdown",
   "execution_count": 76,
   "metadata": {
    "tags": [
     "cor"
    ],
    "vscode": {
     "languageId": "ocaml"
    }
   },
   "source": [
    "````{admonition} Solution\n",
    ":class: tip, dropdown\n",
    "``` ocaml\n",
    "let deterministe a =\n",
    "  let res = ref (List.length a.initiaux = 1) in\n",
    "  Hashtbl.iter (fun (i, c) l -> res := !res && List.length l <= 1) a.delta;\n",
    "  !res\n",
    "```\n",
    "``` \n",
    "val deterministe : automate -> bool = <fun>\n",
    "\n",
    "\n",
    "```\n",
    "````"
   ]
  },
  {
   "cell_type": "code",
   "execution_count": 77,
   "metadata": {
    "vscode": {
     "languageId": "ocaml"
    }
   },
   "outputs": [
    {
     "data": {
      "text/plain": [
       "- : bool = true\n"
      ]
     },
     "execution_count": 77,
     "metadata": {},
     "output_type": "execute_result"
    },
    {
     "data": {
      "text/plain": [
       "- : unit = ()\n"
      ]
     },
     "execution_count": 77,
     "metadata": {},
     "output_type": "execute_result"
    },
    {
     "data": {
      "text/plain": [
       "- : bool = true\n"
      ]
     },
     "execution_count": 77,
     "metadata": {},
     "output_type": "execute_result"
    }
   ],
   "source": [
    "deterministe a;;\n",
    "Hashtbl.remove a.delta (1, 'b');;\n",
    "deterministe a;;"
   ]
  }
 ],
 "metadata": {
  "kernelspec": {
   "display_name": "OCaml default",
   "language": "OCaml",
   "name": "ocaml-jupyter"
  },
  "language_info": {
   "codemirror_mode": "text/x-ocaml",
   "file_extension": ".ml",
   "mimetype": "text/x-ocaml",
   "name": "OCaml",
   "nbconverter_exporter": null,
   "pygments_lexer": "OCaml",
   "version": "4.11.1"
  },
  "vscode": {
   "interpreter": {
    "hash": "31f2aee4e71d21fbe5cf8b01ff0e069b9275f58929596ceb00d14d90e3e16cd6"
   }
  }
 },
 "nbformat": 4,
 "nbformat_minor": 2
}
