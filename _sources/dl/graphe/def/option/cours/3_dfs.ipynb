{
 "cells": [
  {
   "cell_type": "markdown",
   "metadata": {},
   "source": [
    "# Parcours en profondeur\n",
    "<iframe src=https://mozilla.github.io/pdf.js/web/viewer.html?file=https://raw.githubusercontent.com/fortierq/cours/main/graphe/def/option/cours/3_dfs.pdf#zoom=page-fit&pagemode=none height=500 width=100% allowfullscreen></iframe>"
   ]
  },
  {
   "cell_type": "markdown",
   "metadata": {},
   "source": [
    "Graphe utilisé pour les exemples :\n",
    "<center><img src=https://github.com/cpge-itc/itc1/raw/4be1ee8d9679ffae521c506ad54acb9e6099c614/files/5_graph/tp/tp2/g.png width=200></center>"
   ]
  },
  {
   "cell_type": "code",
   "execution_count": 1,
   "metadata": {
    "vscode": {
     "languageId": "ocaml"
    }
   },
   "outputs": [
    {
     "data": {
      "text/plain": [
       "val g_mat : int array array =\n",
       "  [|[|0; 0; 0; 0; 0; 0; 1|]; [|0; 0; 1; 1; 1; 0; 0|];\n",
       "    [|0; 1; 0; 0; 1; 1; 0|]; [|0; 1; 0; 0; 1; 0; 0|];\n",
       "    [|0; 0; 1; 1; 0; 0; 0|]; [|0; 0; 1; 0; 1; 0; 0|];\n",
       "    [|1; 0; 0; 0; 0; 0; 0|]|]\n"
      ]
     },
     "execution_count": 1,
     "metadata": {},
     "output_type": "execute_result"
    },
    {
     "data": {
      "text/plain": [
       "val g_list : int list array =\n",
       "  [|[6]; [2; 3; 4]; [1; 4; 5]; [1; 4]; [1; 2; 3; 5]; [4; 2]; [0]|]\n"
      ]
     },
     "execution_count": 1,
     "metadata": {},
     "output_type": "execute_result"
    }
   ],
   "source": [
    "let g_mat = [|\n",
    "    [|0; 0; 0; 0; 0; 0; 1|];\n",
    "    [|0; 0; 1; 1; 1; 0; 0|];\n",
    "    [|0; 1; 0; 0; 1; 1; 0|];\n",
    "    [|0; 1; 0; 0; 1; 0; 0|];\n",
    "    [|0; 0; 1; 1; 0; 0; 0|];\n",
    "    [|0; 0; 1; 0; 1; 0; 0|];\n",
    "    [|1; 0; 0; 0; 0; 0; 0|];\n",
    "|]\n",
    "\n",
    "let g_list = [|[6]; [2; 3; 4]; [1; 4; 5]; [1; 4]; [1; 2; 3; 5]; [4; 2]; [0]|]"
   ]
  },
  {
   "cell_type": "markdown",
   "metadata": {},
   "source": [
    "## Parcours en profondeur sur liste d'adjacence"
   ]
  },
  {
   "cell_type": "code",
   "execution_count": 2,
   "metadata": {
    "vscode": {
     "languageId": "ocaml"
    }
   },
   "outputs": [
    {
     "data": {
      "text/plain": [
       "val dfs : int list array -> int -> unit = <fun>\n"
      ]
     },
     "execution_count": 2,
     "metadata": {},
     "output_type": "execute_result"
    }
   ],
   "source": [
    "let dfs g r =\n",
    "    let n = Array.length g in\n",
    "    let seen = Array.make n false in\n",
    "    let rec aux v =\n",
    "        if not seen.(v) then (\n",
    "            seen.(v) <- true;\n",
    "            Printf.printf \"Sommet %d visité\\n%!\" v;\n",
    "            List.iter aux g.(v)\n",
    "        ) in\n",
    "    aux r"
   ]
  },
  {
   "cell_type": "code",
   "execution_count": 3,
   "metadata": {
    "vscode": {
     "languageId": "ocaml"
    }
   },
   "outputs": [
    {
     "name": "stdout",
     "output_type": "stream",
     "text": [
      "Sommet 0 visité\n",
      "Sommet 6 visité\n"
     ]
    }
   ],
   "source": [
    "let () = dfs g_list 0"
   ]
  },
  {
   "cell_type": "code",
   "execution_count": 4,
   "metadata": {
    "vscode": {
     "languageId": "ocaml"
    }
   },
   "outputs": [
    {
     "name": "stdout",
     "output_type": "stream",
     "text": [
      "Sommet 3 visité\n",
      "Sommet 1 visité\n",
      "Sommet 2 visité\n",
      "Sommet 4 visité\n",
      "Sommet 5 visité\n"
     ]
    }
   ],
   "source": [
    "let () = dfs g_list 3"
   ]
  },
  {
   "cell_type": "markdown",
   "metadata": {},
   "source": [
    "## Parcours en profondeur sur matrice d'adjacence"
   ]
  },
  {
   "cell_type": "code",
   "execution_count": 5,
   "metadata": {
    "vscode": {
     "languageId": "ocaml"
    }
   },
   "outputs": [
    {
     "data": {
      "text/plain": [
       "val dfs : int array array -> int -> unit = <fun>\n"
      ]
     },
     "execution_count": 5,
     "metadata": {},
     "output_type": "execute_result"
    }
   ],
   "source": [
    "let dfs g r =\n",
    "    let n = Array.length g in\n",
    "    let seen = Array.make n false in\n",
    "    let rec aux v =\n",
    "        if not seen.(v) then (\n",
    "            seen.(v) <- true;\n",
    "            Printf.printf \"Sommet %d visité\\n%!\" v;\n",
    "            for j = 0 to n - 1 do\n",
    "                if g.(v).(j) = 1 then aux j\n",
    "            done\n",
    "        ) in\n",
    "    aux r"
   ]
  },
  {
   "cell_type": "code",
   "execution_count": 6,
   "metadata": {
    "vscode": {
     "languageId": "ocaml"
    }
   },
   "outputs": [
    {
     "name": "stdout",
     "output_type": "stream",
     "text": [
      "Sommet 0 visité\n",
      "Sommet 6 visité\n"
     ]
    }
   ],
   "source": [
    "let () = dfs g_mat 0"
   ]
  },
  {
   "cell_type": "code",
   "execution_count": 7,
   "metadata": {
    "vscode": {
     "languageId": "ocaml"
    }
   },
   "outputs": [
    {
     "name": "stdout",
     "output_type": "stream",
     "text": [
      "Sommet 3 visité\n",
      "Sommet 1 visité\n",
      "Sommet 2 visité\n",
      "Sommet 4 visité\n",
      "Sommet 5 visité\n"
     ]
    }
   ],
   "source": [
    "let () = dfs g_mat 3"
   ]
  },
  {
   "cell_type": "markdown",
   "metadata": {},
   "source": [
    "## Recherche de cycle"
   ]
  },
  {
   "cell_type": "markdown",
   "metadata": {},
   "source": [
    "### Graphe non-orienté"
   ]
  },
  {
   "cell_type": "code",
   "execution_count": 15,
   "metadata": {
    "vscode": {
     "languageId": "ocaml"
    }
   },
   "outputs": [
    {
     "data": {
      "text/plain": [
       "val has_cycle : int list array -> bool = <fun>\n"
      ]
     },
     "execution_count": 15,
     "metadata": {},
     "output_type": "execute_result"
    },
    {
     "data": {
      "text/plain": [
       "- : bool = true\n"
      ]
     },
     "execution_count": 15,
     "metadata": {},
     "output_type": "execute_result"
    }
   ],
   "source": [
    "let has_cycle g = (* g : graphe non orienté représenté par liste d'adjacence *)\n",
    "\tlet n = Array.length g in\n",
    "    let pred = Array.make n (-1) in\n",
    "    let ans = ref false in\n",
    "    let rec aux p u = (* p a permis de découvrir u *)\n",
    "        if pred.(u) = -1 then (\n",
    "            pred.(u) <- p;\n",
    "            List.iter (aux p) g.(u)\n",
    "        )\n",
    "        else if pred.(p) <> u then ans := true in\n",
    "    for i = 0 to n - 1 do\n",
    "        aux i i (* cherche un cycle depuis le sommet i *)\n",
    "    done;\n",
    "    !ans;;\n",
    "\n",
    "has_cycle g_list"
   ]
  },
  {
   "cell_type": "markdown",
   "metadata": {},
   "source": [
    "### Graphe orienté"
   ]
  },
  {
   "cell_type": "code",
   "execution_count": 19,
   "metadata": {
    "vscode": {
     "languageId": "ocaml"
    }
   },
   "outputs": [
    {
     "data": {
      "text/plain": [
       "val has_cycle : int list array -> bool = <fun>\n"
      ]
     },
     "execution_count": 19,
     "metadata": {},
     "output_type": "execute_result"
    }
   ],
   "source": [
    "let has_cycle g = (* g : graphe orienté représenté par liste d'adjacence *)\n",
    "    let n = Array.length g in\n",
    "\tlet visited = Array.make n 0 in\n",
    "    let ans = ref false in\n",
    "    let rec aux v = match visited.(v) with\n",
    "        | 0 -> visited.(v) <- 1;\n",
    "               List.iter aux g.(v);\n",
    "               visited.(v) <- 2\n",
    "        | 1 -> ans := true\n",
    "        | _ -> () in\n",
    "    for i = 0 to n - 1 do\n",
    "        aux i (* cherche un cycle depuis le sommet i *)\n",
    "    done;\n",
    "    !ans"
   ]
  },
  {
   "cell_type": "markdown",
   "metadata": {},
   "source": [
    "```{raw} html\n",
    "<script\n",
    "   type=\"text/javascript\"\n",
    "   src=\"https://utteranc.es/client.js\"\n",
    "   async=\"async\"\n",
    "   repo=\"mp-info/mp-info.github.io\"\n",
    "   issue-term=\"pathname\"\n",
    "   theme=\"github-light\"\n",
    "   label=\"💬 comment\"\n",
    "   crossorigin=\"anonymous\"\n",
    "/>\n",
    "```"
   ]
  }
 ],
 "metadata": {
  "celltoolbar": "Tags",
  "kernelspec": {
   "display_name": "OCaml 4.14",
   "language": "OCaml",
   "name": "ocaml-jupyter"
  },
  "language_info": {
   "codemirror_mode": "text/x-ocaml",
   "file_extension": ".ml",
   "mimetype": "text/x-ocaml",
   "name": "OCaml",
   "nbconverter_exporter": null,
   "pygments_lexer": "OCaml",
   "version": "3.9.2"
  },
  "vscode": {
   "interpreter": {
    "hash": "31f2aee4e71d21fbe5cf8b01ff0e069b9275f58929596ceb00d14d90e3e16cd6"
   }
  }
 },
 "nbformat": 4,
 "nbformat_minor": 2
}
