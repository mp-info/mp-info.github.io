{
 "cells": [
  {
   "cell_type": "markdown",
   "metadata": {},
   "source": [
    "# Parcours en largeur\n",
    "<iframe src=https://mozilla.github.io/pdf.js/web/viewer.html?file=https://raw.githubusercontent.com/fortierq/cours/main/graphe/def/option/cours/4_bfs.pdf#zoom=page-fit&pagemode=none height=500 width=100% allowfullscreen></iframe>"
   ]
  },
  {
   "cell_type": "markdown",
   "metadata": {},
   "source": [
    "## Preuve de correction\n",
    "\n",
    "(par Jean-Baptiste Bianquis)\n",
    "\n",
    "<iframe src=https://mozilla.github.io/pdf.js/web/viewer.html?file=https://raw.githubusercontent.com/fortierq/cours/main/graphe/def/option/cours/bfs_preuve.pdf#zoom=page-fit&pagemode=none height=900 width=100% allowfullscreen></iframe>"
   ]
  },
  {
   "cell_type": "markdown",
   "metadata": {},
   "source": [
    "Graphe utilisé pour les exemples :\n",
    "<center><img src=https://github.com/cpge-itc/itc1/raw/4be1ee8d9679ffae521c506ad54acb9e6099c614/files/5_graph/tp/tp2/g.png width=200></center>"
   ]
  },
  {
   "cell_type": "code",
   "execution_count": 7,
   "metadata": {},
   "outputs": [
    {
     "data": {
      "text/plain": [
       "val g_mat : int array array =\n",
       "  [|[|0; 0; 0; 0; 0; 0; 1|]; [|0; 0; 1; 1; 1; 0; 0|];\n",
       "    [|0; 1; 0; 0; 1; 1; 0|]; [|0; 1; 0; 0; 1; 0; 0|];\n",
       "    [|0; 0; 1; 1; 0; 0; 0|]; [|0; 0; 1; 0; 1; 0; 0|];\n",
       "    [|1; 0; 0; 0; 0; 0; 0|]|]\n"
      ]
     },
     "execution_count": 7,
     "metadata": {},
     "output_type": "execute_result"
    },
    {
     "data": {
      "text/plain": [
       "val g_list : int list array =\n",
       "  [|[6]; [2; 3; 4]; [1; 4; 5]; [1; 4]; [1; 2; 3; 5]; [4; 2]; [0]|]\n"
      ]
     },
     "execution_count": 7,
     "metadata": {},
     "output_type": "execute_result"
    }
   ],
   "source": [
    "let g_mat = [|\n",
    "    [|0; 0; 0; 0; 0; 0; 1|];\n",
    "    [|0; 0; 1; 1; 1; 0; 0|];\n",
    "    [|0; 1; 0; 0; 1; 1; 0|];\n",
    "    [|0; 1; 0; 0; 1; 0; 0|];\n",
    "    [|0; 0; 1; 1; 0; 0; 0|];\n",
    "    [|0; 0; 1; 0; 1; 0; 0|];\n",
    "    [|1; 0; 0; 0; 0; 0; 0|];\n",
    "|]\n",
    "\n",
    "let g_list = [|[6]; [2; 3; 4]; [1; 4; 5]; [1; 4]; [1; 2; 3; 5]; [4; 2]; [0]|]"
   ]
  },
  {
   "cell_type": "markdown",
   "metadata": {},
   "source": [
    "Les fonctions suivantes ont été écrites pour un graphe représenté par liste d'adjacence."
   ]
  },
  {
   "cell_type": "markdown",
   "metadata": {},
   "source": [
    "````{admonition} Exercice\n",
    " Réécrire ces fonctions pour une matrice d'adjacence.\n",
    "````"
   ]
  },
  {
   "cell_type": "markdown",
   "metadata": {},
   "source": [
    "## Parcours en largeur sur liste d'adjacence\n",
    "\n",
    "### Avec file"
   ]
  },
  {
   "cell_type": "code",
   "execution_count": 18,
   "metadata": {},
   "outputs": [
    {
     "data": {
      "text/plain": [
       "val bfs : int list array -> int -> unit = <fun>\n"
      ]
     },
     "execution_count": 18,
     "metadata": {},
     "output_type": "execute_result"
    }
   ],
   "source": [
    "let bfs (g : int list array) (r : int) =\n",
    "    let seen = Array.make (Array.length g) false in\n",
    "    let q = Queue.create () in\n",
    "    let add v = \n",
    "        if not seen.(v) then (\n",
    "            seen.(v) <- true; Queue.add v q\n",
    "        ) in\n",
    "    add r;\n",
    "    while not (Queue.is_empty q) do\n",
    "        let u = Queue.pop q in\n",
    "        Printf.printf \"Sommet %d visité\\n%!\" u;\n",
    "        List.iter add g.(u)\n",
    "    done"
   ]
  },
  {
   "cell_type": "code",
   "execution_count": 19,
   "metadata": {},
   "outputs": [
    {
     "name": "stdout",
     "output_type": "stream",
     "text": [
      "Sommet 3 visité\n",
      "Sommet 1 visité\n",
      "Sommet 4 visité\n",
      "Sommet 2 visité\n",
      "Sommet 5 visité\n"
     ]
    }
   ],
   "source": [
    "let () = bfs g_list 3"
   ]
  },
  {
   "cell_type": "markdown",
   "metadata": {},
   "source": [
    "### Avec deux couches"
   ]
  },
  {
   "cell_type": "code",
   "execution_count": 20,
   "metadata": {},
   "outputs": [
    {
     "data": {
      "text/plain": [
       "val bfs : int list array -> int -> unit = <fun>\n"
      ]
     },
     "execution_count": 20,
     "metadata": {},
     "output_type": "execute_result"
    }
   ],
   "source": [
    "let bfs g r =\n",
    "    let seen = Array.make (Array.length g) false in\n",
    "    let rec aux cur next = match cur with\n",
    "        | [] -> if next <> [] then aux next []\n",
    "        | u::q when seen.(u) -> aux q next\n",
    "        | u::q -> seen.(u) <- true;\n",
    "                  Printf.printf \"Sommet %d visité\\n%!\" u;\n",
    "                  aux q (next @ g.(u)) in\n",
    "    aux [r] []"
   ]
  },
  {
   "cell_type": "code",
   "execution_count": 21,
   "metadata": {},
   "outputs": [
    {
     "name": "stdout",
     "output_type": "stream",
     "text": [
      "Sommet 3 visité\n",
      "Sommet 1 visité\n",
      "Sommet 4 visité\n",
      "Sommet 2 visité\n",
      "Sommet 5 visité\n"
     ]
    }
   ],
   "source": [
    "let () = bfs g_list 3"
   ]
  },
  {
   "cell_type": "markdown",
   "metadata": {},
   "source": [
    "## Calcul de distances\n",
    "\n",
    "**Remarque** : le parcours en largeur ne sert à trouver les distances que si le graphe est non pondéré, et où la longueur d'un chemin est son nombre d'arêtes. Sur les graphes pondérés, il faut utiliser Dijkstra/Floyd-Warshall/Bellman-Ford...\n",
    "\n",
    "### Avec une file"
   ]
  },
  {
   "cell_type": "code",
   "execution_count": 28,
   "metadata": {},
   "outputs": [
    {
     "data": {
      "text/plain": [
       "val distances : int list array -> int -> int array = <fun>\n"
      ]
     },
     "execution_count": 28,
     "metadata": {},
     "output_type": "execute_result"
    }
   ],
   "source": [
    "let distances g r =\n",
    "    let dist = Array.make (Array.length g) (-1) in\n",
    "    let q = Queue.create () in\n",
    "    let add d v =\n",
    "        if dist.(v) = -1 then (\n",
    "            dist.(v) <- d; \n",
    "            Queue.add (v, d) q\n",
    "        ) in\n",
    "    add 0 r;\n",
    "    while not (Queue.is_empty q) do\n",
    "        let u, d = Queue.pop q in\n",
    "        List.iter (add (d + 1)) g.(u)\n",
    "    done;\n",
    "    dist (* dist.(u) est la distance de r à u *)"
   ]
  },
  {
   "cell_type": "code",
   "execution_count": 27,
   "metadata": {},
   "outputs": [
    {
     "data": {
      "text/plain": [
       "- : int array = [|-1; 0; 1; 1; 1; 2; -1|]\n"
      ]
     },
     "execution_count": 27,
     "metadata": {},
     "output_type": "execute_result"
    }
   ],
   "source": [
    "distances g_list 1"
   ]
  },
  {
   "cell_type": "markdown",
   "metadata": {},
   "source": [
    "### Avec deux couches"
   ]
  },
  {
   "cell_type": "code",
   "execution_count": 30,
   "metadata": {},
   "outputs": [
    {
     "data": {
      "text/plain": [
       "val distances : int list array -> int -> int array = <fun>\n"
      ]
     },
     "execution_count": 30,
     "metadata": {},
     "output_type": "execute_result"
    }
   ],
   "source": [
    "let distances g r =\n",
    "    let dist = Array.make (Array.length g) (-1) in\n",
    "    let rec aux d cur next = match cur with\n",
    "        | [] -> if next <> [] then aux (d + 1) next []\n",
    "        | u::q when dist.(u) <> -1 -> aux d q next\n",
    "        | u::q -> dist.(u) <- d;\n",
    "                  aux d q (g.(u) @ next) in\n",
    "    aux 0 [r] []; \n",
    "    dist (* dist.(u) est la distance de r à u *)"
   ]
  },
  {
   "cell_type": "code",
   "execution_count": 31,
   "metadata": {},
   "outputs": [
    {
     "data": {
      "text/plain": [
       "- : int array = [|-1; 0; 1; 1; 1; 2; -1|]\n"
      ]
     },
     "execution_count": 31,
     "metadata": {},
     "output_type": "execute_result"
    }
   ],
   "source": [
    "distances g_list 1"
   ]
  },
  {
   "cell_type": "markdown",
   "metadata": {},
   "source": [
    "## Plus courts chemins"
   ]
  },
  {
   "cell_type": "code",
   "execution_count": 36,
   "metadata": {},
   "outputs": [
    {
     "data": {
      "text/plain": [
       "val bfs : int list array -> int -> int array = <fun>\n"
      ]
     },
     "execution_count": 36,
     "metadata": {},
     "output_type": "execute_result"
    }
   ],
   "source": [
    "let bfs g r =\n",
    "    let pred = Array.make (Array.length g) (-1) in\n",
    "    let q = Queue.create () in\n",
    "    let add p v = (* p est le père de v *)\n",
    "        if pred.(v) = -1 then (pred.(v) <- p; Queue.add v q) in\n",
    "    add r r;\n",
    "    while not (Queue.is_empty q) do\n",
    "        let u = Queue.pop q in\n",
    "        List.iter (add u) g.(u)\n",
    "    done; \n",
    "    pred (* pred.(v) est le prédécesseur de v dans le parcours en largeur *)"
   ]
  },
  {
   "cell_type": "code",
   "execution_count": 43,
   "metadata": {},
   "outputs": [
    {
     "data": {
      "text/plain": [
       "val path : int array -> int -> int list = <fun>\n"
      ]
     },
     "execution_count": 43,
     "metadata": {},
     "output_type": "execute_result"
    }
   ],
   "source": [
    "let rec path pred v = (* renvoie la liste inversée des sommets du chemin parcouru par le BFS pour aller de la racine à v *)\n",
    "    if pred.(v) = v then [v]\n",
    "    else v::path pred pred.(v)"
   ]
  },
  {
   "cell_type": "code",
   "execution_count": 40,
   "metadata": {},
   "outputs": [
    {
     "data": {
      "text/plain": [
       "val pred : int array = [|-1; 3; 1; 3; 3; 4; -1|]\n"
      ]
     },
     "execution_count": 40,
     "metadata": {},
     "output_type": "execute_result"
    }
   ],
   "source": [
    "let pred = bfs g_list 3"
   ]
  },
  {
   "cell_type": "code",
   "execution_count": 42,
   "metadata": {},
   "outputs": [
    {
     "data": {
      "text/plain": [
       "- : int list = [5; 4; 3]\n"
      ]
     },
     "execution_count": 42,
     "metadata": {},
     "output_type": "execute_result"
    }
   ],
   "source": [
    "path pred 5 (* chemin de 3 à 5 (à l'envers) *)"
   ]
  },
  {
   "cell_type": "markdown",
   "metadata": {},
   "source": [
    "```{raw} html\n",
    "<script\n",
    "   type=\"text/javascript\"\n",
    "   src=\"https://utteranc.es/client.js\"\n",
    "   async=\"async\"\n",
    "   repo=\"mp-info/mp-info.github.io\"\n",
    "   issue-term=\"pathname\"\n",
    "   theme=\"github-light\"\n",
    "   label=\"💬 comment\"\n",
    "   crossorigin=\"anonymous\"\n",
    "/>\n",
    "```"
   ]
  }
 ],
 "metadata": {
  "kernelspec": {
   "display_name": "Python 3.10.6 64-bit",
   "language": "python",
   "name": "python3"
  },
  "language_info": {
   "codemirror_mode": "text/x-ocaml",
   "file_extension": ".ml",
   "mimetype": "text/x-ocaml",
   "name": "python",
   "nbconverter_exporter": null,
   "pygments_lexer": "OCaml",
   "version": "3.10.6"
  },
  "vscode": {
   "interpreter": {
    "hash": "767d51c1340bd893661ea55ea3124f6de3c7a262a8b4abca0554b478b1e2ff90"
   }
  }
 },
 "nbformat": 4,
 "nbformat_minor": 2
}
