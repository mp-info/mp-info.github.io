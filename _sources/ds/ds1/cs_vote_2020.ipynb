{
 "cells": [
  {
   "cell_type": "markdown",
   "metadata": {},
   "source": [
    "# DS 6 Corrigé (Un système de vote : CentraleSupélec 2020)\n",
    "\n",
    "## Vote par préférence"
   ]
  },
  {
   "cell_type": "code",
   "execution_count": 1,
   "metadata": {
    "vscode": {
     "languageId": "ocaml"
    }
   },
   "outputs": [
    {
     "data": {
      "text/plain": [
       "val duel : 'a -> 'a -> 'a list list -> int = <fun>\n"
      ]
     },
     "execution_count": 1,
     "metadata": {},
     "output_type": "execute_result"
    },
    {
     "data": {
      "text/plain": [
       "val ex : int list list = [[2; 0; 1]; [2; 1; 0]; [1; 2; 0]]\n"
      ]
     },
     "execution_count": 1,
     "metadata": {},
     "output_type": "execute_result"
    },
    {
     "data": {
      "text/plain": [
       "- : int = -1\n"
      ]
     },
     "execution_count": 1,
     "metadata": {},
     "output_type": "execute_result"
    }
   ],
   "source": [
    "(* Q1 (/1.5) *) \n",
    "let duel i j urne =\n",
    "    let rec compare = function\n",
    "      | e::q -> \n",
    "        if e = i then 1\n",
    "        else if e = j then -1\n",
    "        else compare q\n",
    "      | [] -> failwith \"i et j n'apparaissent pas\" in\n",
    "    List.map compare urne\n",
    "    |> List.fold_left (+) 0;;\n",
    "\n",
    "let ex = [[2; 0; 1]; [2; 1; 0]; [1; 2; 0]];;\n",
    "duel 0 1 ex;;\n"
   ]
  },
  {
   "cell_type": "markdown",
   "metadata": {},
   "source": [
    "Q2. (/0.5) Voici le graphe et la matrice d'adjacence associée :\n",
    "\n",
    "[![](https://mermaid.ink/img/pako:eNpdjrEOwjAQQ38l8txK0DEDU_kCGLOcekcbQZLqSIaq7b8TJFjqyZafJa8YEgssRqV5MvfeRVN1Mm172brNnA-5Q4MgGshzHa3f1iFPEsTBVsukTwcX98qVmSnLlX1OCvug11saUMnptsQBNmuRP9R7qgfCj9o_AA8vZw)](https://mermaid.live/edit#pako:eNpdjrEOwjAQQ38l8txK0DEDU_kCGLOcekcbQZLqSIaq7b8TJFjqyZafJa8YEgssRqV5MvfeRVN1Mm172brNnA-5Q4MgGshzHa3f1iFPEsTBVsukTwcX98qVmSnLlX1OCvug11saUMnptsQBNmuRP9R7qgfCj9o_AA8vZw)\n",
    "\n",
    "$$\\begin{pmatrix}\n",
    "0 & 2 & 2\\\\\n",
    "-2 & 0 & 0\\\\\n",
    "-2 & 0 & 0\n",
    "\\end{pmatrix}$$"
   ]
  },
  {
   "cell_type": "markdown",
   "metadata": {},
   "source": [
    "Q3. (/1) \n",
    "- Si le résultat de la comparaison de $i$ avec $j$ est $k$, alors le résultat de la comparaison de $j$ avec $i$ est $-k$, d'où la fait que la matrice d'adjacence soit antisymétrique.  \n",
    "- Soit $p$ le nombre de votants et $i$, $j$ deux candidats. Le résultat de la comparaison de $i$ et $j$ pour $1$ candidat donne $1$ ou $-1$, et est donc congru à $1$ modulo $2$. Le résultat de la comparaison de  $i$ et $j$ (pour tous les candidats) est donc $p$ modulo $2$, ce qui ne dépend pas de $i$ et $j$. Donc toutes les comparaisons entre candidats ont la même valeur modulo $2$, c'est-à-dire qu'ils ont tous la même parité. "
   ]
  },
  {
   "cell_type": "code",
   "execution_count": 2,
   "metadata": {
    "vscode": {
     "languageId": "ocaml"
    }
   },
   "outputs": [
    {
     "data": {
      "text/plain": [
       "val depouillement : int -> int list list -> int array array = <fun>\n"
      ]
     },
     "execution_count": 2,
     "metadata": {},
     "output_type": "execute_result"
    },
    {
     "data": {
      "text/plain": [
       "- : int array array = [|[|0; -1; -3|]; [|1; 0; -1|]; [|3; 1; 0|]|]\n"
      ]
     },
     "execution_count": 2,
     "metadata": {},
     "output_type": "execute_result"
    }
   ],
   "source": [
    "(* Q4 (/1) *)\n",
    "let depouillement n u =\n",
    "  let m = Array.make_matrix n n 0 in\n",
    "  for i = 0 to n - 1 do\n",
    "    for j = 0 to n - 1 do\n",
    "      if i <> j then m.(i).(j) <- duel i j u\n",
    "    done\n",
    "  done;\n",
    "  m;;\n",
    "\n",
    "depouillement 3 ex"
   ]
  },
  {
   "cell_type": "markdown",
   "metadata": {},
   "source": [
    "Q5. (/1.5) On considère les votes `[i; j; 0; ...; n - 1]` et `[n - 1; ...; 0; i; j]`, où `0; ...; n - 1` contient tous les entiers de `0` à `n - 1`, sauf `i` et `j`. De même pour `n - 1; ...; 0` mais dans l'ordre décroissant.  \n",
    "Alors on a bien Mat($U_{i, j, n}$) = $E_{i, j, n}$."
   ]
  },
  {
   "cell_type": "markdown",
   "metadata": {},
   "source": [
    "Q6. (/0.5) Mat($U_1 \\cup U_2$) = Mat($U_1$) + Mat($U_2$)"
   ]
  },
  {
   "cell_type": "markdown",
   "metadata": {},
   "source": [
    "Q7. (/2.5) On note $\\vert M \\vert = \\sum_{i, j} \\vert m_{i, j} \\vert$ la somme des valeurs absolues des éléments d'une matrice $M$.  \n",
    "Soit $P(n)$ : \"si $M$ est une matrice antisymétrique à coefficients pairs telle que $\\vert M \\vert \\leq n$ alors il existe une urne $U$ telle que $M$ = Mat($U$)\".  \n",
    "Montrons $P(n)$ par récurrence sur $n$.  \n",
    "- Si $\\vert M \\vert = 0$ alors une urne $U$ vide (avec aucun votant) vérifie $M$ = Mat($U$). Donc $P(0)$ est vraie.\n",
    "- Supposons $P(n)$. Soit $M$ est une matrice antisymétrique à coefficients pairs telle que $\\vert M \\vert \\leq n + 1$. Soit $i, j$ tel que $M_{i, j} \\neq 0$. Quitte à échanger $i$ et $j$, on peut supposer $M_{i, j} > 0$.  \n",
    "Considérons alors l'urne' $U_{i, j, n}$ définie en Q5. Soit $M' = M -$ Mat($U_{i, j, n}$). $M'$ est une matrice antisymétrique à coefficients pairs et $\\vert M' \\vert = \\vert M \\vert - 4 \\leq n$. On peut donc appliquer $P(n)$ pour trouver $U$ telle que $M'$ = Mat($U$).  \n",
    "Alors, d'après Q6, Mat($U \\cup U_{i, j, n}$) = Mat($U$) + Mat($U_{i, j, n}$) = $M$. On a bien démontré $P(n + 1)$."
   ]
  },
  {
   "cell_type": "code",
   "execution_count": 3,
   "metadata": {
    "vscode": {
     "languageId": "ocaml"
    }
   },
   "outputs": [
    {
     "data": {
      "text/plain": [
       "val mcgarvey : int array array -> int list list = <fun>\n"
      ]
     },
     "execution_count": 3,
     "metadata": {},
     "output_type": "execute_result"
    },
    {
     "data": {
      "text/plain": [
       "val m_ex : int array array = [|[|0; 2; -4|]; [|-2; 0; 2|]; [|4; -2; 0|]|]\n"
      ]
     },
     "execution_count": 3,
     "metadata": {},
     "output_type": "execute_result"
    },
    {
     "data": {
      "text/plain": [
       "- : int list list =\n",
       "[[2; 0; 1]; [1; 2; 0]; [2; 0; 1]; [1; 2; 0]; [1; 2; 0]; [0; 1; 2]; [0; 1; 2];\n",
       " [2; 0; 1]]\n"
      ]
     },
     "execution_count": 3,
     "metadata": {},
     "output_type": "execute_result"
    }
   ],
   "source": [
    "(* Q8 (/2) On utilise les questions précédentes *) \n",
    "let mcgarvey m =\n",
    "  let n = Array.length m in\n",
    "  let urne = ref [] in\n",
    "  for i = 0 to n - 1 do\n",
    "    for j = 0 to n - 1 do\n",
    "      if m.(i).(j) > 0 then\n",
    "      let rec aux k =\n",
    "        if k = n then []\n",
    "        else if k = i || k = j then aux (k + 1)\n",
    "        else k::aux (k + 1) in\n",
    "      let u1 = i::j::aux 0 in (* Q5 *)\n",
    "      let u2 = (List.rev (aux 0))@[i; j] in\n",
    "      for k = 0 to m.(i).(j)/2 - 1 do\n",
    "        urne := u1::u2::!urne\n",
    "      done\n",
    "    done\n",
    "  done;\n",
    "  !urne;;\n",
    "\n",
    "  let m_ex =\n",
    "  [|[|0; 2; -4|];\n",
    "    [|-2; 0; 2|];\n",
    "    [|4; -2; 0|]|];;\n",
    "\n",
    "  mcgarvey m_ex"
   ]
  },
  {
   "cell_type": "markdown",
   "metadata": {},
   "source": [
    "Q9. O($n^2(n + q)$)"
   ]
  },
  {
   "cell_type": "markdown",
   "metadata": {},
   "source": [
    "## Recherche du vainqueur"
   ]
  },
  {
   "cell_type": "code",
   "execution_count": 4,
   "metadata": {
    "vscode": {
     "languageId": "ocaml"
    }
   },
   "outputs": [
    {
     "data": {
      "text/plain": [
       "val condorcet : int array array -> int list = <fun>\n"
      ]
     },
     "execution_count": 4,
     "metadata": {},
     "output_type": "execute_result"
    }
   ],
   "source": [
    "(* Q11 (/1) *)\n",
    "let condorcet m =\n",
    "  let l = ref [] in\n",
    "  for i = 0 to Array.length m - 1 do\n",
    "    if Array.for_all ((>) 0) m.(i) \n",
    "    then l := i::!l\n",
    "  done;\n",
    "  !l"
   ]
  },
  {
   "cell_type": "markdown",
   "metadata": {},
   "source": [
    "Q12. (/1) Urne : `[[0; 1; 2]; [1; 2; 0]; [2; 0; 1]]`.  \n",
    "Graphe :  \n",
    "[![](https://mermaid.ink/img/pako:eNo1jsEOgyAQRH-FzFkT8cihJ_sF7ZHLRrZKWsBQOBj130uj7Gle5mWyG8ZgGApTpGUWz0F7Ua4TbXvb5S7kybJyf3JfuUMDx9GRNWVk-7caaWbHGqpEQ_Gtof1RvLwYSnw3NoUI9aLPlxtQTuGx-hEqxcxVGiyVh9xlHT9fXDMT)](https://mermaid.live/edit#pako:eNo1jsEOgyAQRH-FzFkT8cihJ_sF7ZHLRrZKWsBQOBj130uj7Gle5mWyG8ZgGApTpGUWz0F7Ua4TbXvb5S7kybJyf3JfuUMDx9GRNWVk-7caaWbHGqpEQ_Gtof1RvLwYSnw3NoUI9aLPlxtQTuGx-hEqxcxVGiyVh9xlHT9fXDMT)"
   ]
  },
  {
   "cell_type": "markdown",
   "metadata": {},
   "source": [
    "Q13. Le poids d'un chemin n'est pas changé si on passe plusieurs fois par le même sommet. On peut donc se restreindre aux chemins sans boucle."
   ]
  },
  {
   "cell_type": "markdown",
   "metadata": {},
   "source": [
    "Q14. Soit $C_1$ un chemin de $i$ à $j$ de poids $I[i, j]$ et $C_2$ un chemin de $j$ à $k$ de poids $I[j, k]$. Alors la concaténation de $C_1$ et $C_2$ est un chemin de $i$ à $k$ de poids $\\min(I[i, j], I[j, k])$. Comme $I[i, k]$ est le poids maximum d'un chemin de $i$ à $k$, on a bien $\\boxed{\\min(I[i, j], I[j, k]) \\leq I[i, k]}$."
   ]
  },
  {
   "cell_type": "code",
   "execution_count": 5,
   "metadata": {
    "vscode": {
     "languageId": "ocaml"
    }
   },
   "outputs": [
    {
     "data": {
      "text/plain": [
       "val intermediaire : 'a array array -> 'a array array = <fun>\n"
      ]
     },
     "execution_count": 5,
     "metadata": {},
     "output_type": "execute_result"
    }
   ],
   "source": [
    "(* Q15 (/1.5) *)\n",
    "let intermediaire g =\n",
    "  let n = Array.length g in\n",
    "  let d = Array.map Array.copy g in (* copie de g *)\n",
    "  for k = 0 to n - 1 do\n",
    "    for i = 0 to n - 1 do\n",
    "      for j = 0 to n - 1 do\n",
    "        d.(i).(j) <- max d.(i).(j) (min d.(i).(k) d.(k).(j))\n",
    "      done\n",
    "    done\n",
    "  done;\n",
    "  d"
   ]
  },
  {
   "cell_type": "markdown",
   "metadata": {},
   "source": [
    "Q16. (/0.5) O($n^3$)"
   ]
  },
  {
   "cell_type": "markdown",
   "metadata": {},
   "source": [
    "Q17. (/1.5) On pourrait adapter Dijkstra en utilisant une file de priorité max avec $\\min d.(u) w.(u).(v)$ comme priorité.  \n",
    "Dans sa version classique, Dijkstra ne fonctionne pas avec des poids négatifs. Cependant, dans cette nouvelle version, l'algorithme fonctionne même avec des poids négatifs (reprendre la démonstration du cours pour s'en convaincre). On pourrait donc utiliser $n$ fois (depuis chaque sommet) cette version modifiée de Dijkstra.  \n",
    "La complexité de Dijkstra (avec une file de priorité implémenté par un tas ou un ABR équilibré, comme dans le cours) est en O($p\\log(n)$) où $p$ est le nombre d'arêtes et $n$ le nombre de sommets. Ici, $p = \\binom{2}{n}$ = O($n^2$) vu que le graphe de préférence est complet. Donc utiliser $n$ fois Dijsktra est en O($n^3 \\log(n)$), ce qui est moins intéressant que Floyd-Warshall."
   ]
  },
  {
   "cell_type": "markdown",
   "metadata": {},
   "source": [
    "Q18. \n",
    "- $S[i, j] = I[i, j] - I[j, i] = -(I[j, i] - I[i, j]) = -S[j, i]$  \n",
    "- $I[i, j]$ et $I[j, i]$ correspondent à deux poids du graphe de préférence. D'après Q3, ils sont donc de même parité. Donc $S[i, j] = I[i, j] - I[j, i]$ est pair (la somme de deux entiers de même parité est toujours paire)."
   ]
  },
  {
   "cell_type": "code",
   "execution_count": 6,
   "metadata": {
    "vscode": {
     "languageId": "ocaml"
    }
   },
   "outputs": [
    {
     "data": {
      "text/plain": [
       "val graphe_schulze : int array array -> int array array = <fun>\n"
      ]
     },
     "execution_count": 6,
     "metadata": {},
     "output_type": "execute_result"
    }
   ],
   "source": [
    "(* Q19 *)\n",
    "let graphe_schulze m =\n",
    "  let n = Array.length m in\n",
    "  let g = Array.make_matrix n n 0 in\n",
    "  for i = 0 to n - 1 do\n",
    "    for j = 0 to n - 1 do\n",
    "        g.(i).(j) <- m.(i).(j) - m.(j).(i)\n",
    "    done\n",
    "  done;\n",
    "  g"
   ]
  },
  {
   "cell_type": "code",
   "execution_count": 7,
   "metadata": {
    "vscode": {
     "languageId": "ocaml"
    }
   },
   "outputs": [
    {
     "data": {
      "text/plain": [
       "val schulze : int -> int list list -> int list = <fun>\n"
      ]
     },
     "execution_count": 7,
     "metadata": {},
     "output_type": "execute_result"
    }
   ],
   "source": [
    "(* Q20 *)\n",
    "let schulze n u =\n",
    "  depouillement n u\n",
    "  |> intermediaire\n",
    "  |> graphe_schulze\n",
    "  |> condorcet"
   ]
  },
  {
   "cell_type": "markdown",
   "metadata": {},
   "source": [
    "Q 21. \n",
    "- `duel` est en O($np$)\n",
    "- `depouillement` appelle $n^2$ fois `duel`, donc est en O($n^3p$)\n",
    "- `graphe_schulze` est en O($n^2$)\n",
    "- `condorcet` est en O($n^2$)\n",
    "- \n",
    "  Conclusion : `schulze` est en $\\boxed{\\text{O}(n^3p)}$"
   ]
  }
 ],
 "metadata": {
  "interpreter": {
   "hash": "638d2bb0c3d5a654c8dabbf1e544957f030902e91031027a7993b713e9c17aba"
  },
  "kernelspec": {
   "display_name": "OCaml default",
   "language": "OCaml",
   "name": "ocaml-jupyter"
  },
  "language_info": {
   "codemirror_mode": "text/x-ocaml",
   "file_extension": ".ml",
   "mimetype": "text/x-ocaml",
   "name": "OCaml",
   "nbconverter_exporter": null,
   "pygments_lexer": "OCaml",
   "version": "4.08.1"
  }
 },
 "nbformat": 4,
 "nbformat_minor": 2
}
