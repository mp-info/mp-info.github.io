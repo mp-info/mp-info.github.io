{
 "cells": [
  {
   "cell_type": "markdown",
   "id": "cb8cf41b-0cfe-46cf-8ec8-4c8c04f39ef2",
   "metadata": {},
   "source": [
    "# DS 1 : Corrigé\n",
    "\n",
    "## Problème 1 : Arbres couvrants et pavages (Centrale 2021)\n",
    "\n",
    "### [Corrigé](https://raw.githubusercontent.com/mp-info/mp-info.github.io/main/files/ds/ds1/cs21_cor.pdf)\n",
    "\n",
    "### [Rapport](https://raw.githubusercontent.com/mp-info/mp-info.github.io/main/files/ds/ds1/cs21_rapport.pdf)\n",
    "\n",
    "## Problème 2 : Arbres croissants (X-ENS 2016)\n",
    "\n",
    "### [Corrigé](https://raw.githubusercontent.com/mp-info/mp-info.github.io/main/files/ds/ds1/xens21_cor.pdf)\n",
    "\n",
    "### [Rapport](https://raw.githubusercontent.com/mp-info/mp-info.github.io/main/files/ds/ds1/xens21_rapport.pdf)"
   ]
  },
  {
   "cell_type": "markdown",
   "id": "a3e7425e",
   "metadata": {},
   "source": [
    "## Code\n",
    "\n",
    "### Quelques fonctions auxiliaires"
   ]
  },
  {
   "cell_type": "code",
   "execution_count": 1,
   "id": "eb23c469-310f-4586-a3a7-2859a47bada0",
   "metadata": {
    "vscode": {
     "languageId": "ocaml"
    }
   },
   "outputs": [
    {
     "data": {
      "text/plain": [
       "val nombre_aretes : 'a list array -> int = <fun>\n"
      ]
     },
     "execution_count": 1,
     "metadata": {},
     "output_type": "execute_result"
    },
    {
     "data": {
      "text/plain": [
       "val g1 : int list array = [|[]; [3; 4]; [3]; [1; 2; 4; 4]; [1; 3; 3]|]\n"
      ]
     },
     "execution_count": 1,
     "metadata": {},
     "output_type": "execute_result"
    },
    {
     "data": {
      "text/plain": [
       "- : int = 5\n"
      ]
     },
     "execution_count": 1,
     "metadata": {},
     "output_type": "execute_result"
    }
   ],
   "source": [
    "(* 1. *)\n",
    "let nombre_aretes g =\n",
    "    (Array.map List.length g\n",
    "    |> Array.fold_left (+) 0) / 2;;\n",
    "\n",
    "(* test sur le graphe de la figure 1 *)\n",
    "let g1 = [| []; [3; 4]; [3]; [1; 2; 4; 4]; [1; 3; 3] |];;\n",
    "nombre_aretes g1"
   ]
  },
  {
   "cell_type": "code",
   "execution_count": 2,
   "id": "4ec5fbf1-fe14-48f4-a91e-57a9fdc43b27",
   "metadata": {
    "vscode": {
     "languageId": "ocaml"
    }
   },
   "outputs": [
    {
     "data": {
      "text/plain": [
       "val g32 : int array array =\n",
       "  [|[|1; 3|]; [|0; 2; 4|]; [|1; 5|]; [|0; 4|]; [|1; 3; 5|]; [|2; 4|]|]\n"
      ]
     },
     "execution_count": 2,
     "metadata": {},
     "output_type": "execute_result"
    }
   ],
   "source": [
    "(* 2. *)\n",
    "let g32 = [|[|1; 3|]; [|0; 2; 4|]; [|1; 5|]; [|0; 4|]; [|1; 3; 5|]; [|2; 4|]|];;"
   ]
  },
  {
   "cell_type": "code",
   "execution_count": 3,
   "id": "fb6df182-c8c7-47fb-94bf-ba25b62f3f0c",
   "metadata": {
    "vscode": {
     "languageId": "ocaml"
    }
   },
   "outputs": [
    {
     "data": {
      "text/plain": [
       "val adjacence : '_weak1 list array -> '_weak1 array array = <fun>\n"
      ]
     },
     "execution_count": 3,
     "metadata": {},
     "output_type": "execute_result"
    },
    {
     "data": {
      "text/plain": [
       "val g32_list : int list array =\n",
       "  [|[1; 3]; [0; 2; 4]; [1; 5]; [0; 4]; [1; 3; 5]; [2; 4]|]\n"
      ]
     },
     "execution_count": 3,
     "metadata": {},
     "output_type": "execute_result"
    },
    {
     "data": {
      "text/plain": [
       "- : int array array =\n",
       "[|[|1; 3|]; [|0; 2; 4|]; [|1; 5|]; [|0; 4|]; [|1; 3; 5|]; [|2; 4|]|]\n"
      ]
     },
     "execution_count": 3,
     "metadata": {},
     "output_type": "execute_result"
    }
   ],
   "source": [
    "(* 3. *)\n",
    "let adjacence = Array.map Array.of_list;;\n",
    "let g32_list = [|[1; 3]; [0; 2; 4]; [1; 5]; [0; 4]; [1; 3; 5]; [2; 4]|];;\n",
    "adjacence g32_list"
   ]
  },
  {
   "cell_type": "code",
   "execution_count": 4,
   "id": "4e85618a-47f8-4096-b518-9027df9fe0d6",
   "metadata": {
    "vscode": {
     "languageId": "ocaml"
    }
   },
   "outputs": [
    {
     "data": {
      "text/plain": [
       "val rang : int * int -> int * int -> int = <fun>\n"
      ]
     },
     "execution_count": 4,
     "metadata": {},
     "output_type": "execute_result"
    },
    {
     "data": {
      "text/plain": [
       "- : int = 13\n"
      ]
     },
     "execution_count": 4,
     "metadata": {},
     "output_type": "execute_result"
    }
   ],
   "source": [
    "(* 4. *)\n",
    "let rang (p, q) (s, t) = match t - s with\n",
    "    | 1 -> (p*(q-1)) - 1 + s\n",
    "    | p -> (s mod p )*q + (s / p);;    \n",
    "rang (4, 3) (6, 7)"
   ]
  },
  {
   "cell_type": "code",
   "execution_count": 6,
   "id": "94e811dd-2511-4e04-b821-931557fc97bc",
   "metadata": {
    "vscode": {
     "languageId": "ocaml"
    }
   },
   "outputs": [
    {
     "data": {
      "text/plain": [
       "val sommets : int * int -> int -> int * int = <fun>\n"
      ]
     },
     "execution_count": 6,
     "metadata": {},
     "output_type": "execute_result"
    },
    {
     "data": {
      "text/plain": [
       "- : int * int = (2, 6)\n"
      ]
     },
     "execution_count": 6,
     "metadata": {},
     "output_type": "execute_result"
    },
    {
     "data": {
      "text/plain": [
       "- : int * int = (10, 11)\n"
      ]
     },
     "execution_count": 6,
     "metadata": {},
     "output_type": "execute_result"
    }
   ],
   "source": [
    "(* 5. *)\n",
    "let sommets (p, q) i =\n",
    "if i < p*(q - 1) then\n",
    "let u = i/(q - 1) + p*(i mod (q - 1)) in\n",
    "u, u + p\n",
    "else\n",
    "let j = i - p*(q - 1) in\n",
    "let u = j + j/p in\n",
    "u, u+1;;\n",
    "sommets (4, 3) 4;;\n",
    "sommets (4, 3) 16;;"
   ]
  },
  {
   "cell_type": "code",
   "execution_count": 8,
   "id": "ae8ccc41-a5b6-4be6-8362-bb4802038b8a",
   "metadata": {
    "vscode": {
     "languageId": "ocaml"
    }
   },
   "outputs": [
    {
     "data": {
      "text/plain": [
       "val quadrillage : int -> int -> int list array = <fun>\n"
      ]
     },
     "execution_count": 8,
     "metadata": {},
     "output_type": "execute_result"
    },
    {
     "data": {
      "text/plain": [
       "- : int list array =\n",
       "[|[4; 1]; [5; 2; 0]; [6; 3; 1]; [7; 2]; [8; 0; 5]; [9; 1; 6; 4];\n",
       "  [10; 2; 7; 5]; [11; 3; 6]; [4; 9]; [5; 10; 8]; [6; 11; 9]; [7; 10]|]\n"
      ]
     },
     "execution_count": 8,
     "metadata": {},
     "output_type": "execute_result"
    }
   ],
   "source": [
    "(* 6. *)\n",
    "let quadrillage p q =\n",
    "    let n = p*q in\n",
    "    let g = Array.make n [] in\n",
    "    for i = 0 to n - 1 do\n",
    "        if i mod p <> 0 then g.(i) <- [i - 1];\n",
    "        if i mod p <> p - 1 then g.(i) <- (i + 1)::g.(i);\n",
    "        if i >= p then g.(i) <- (i - p)::g.(i);\n",
    "        if i < n - p then g.(i) <- (i + p)::g.(i)\n",
    "    done;\n",
    "    g;;\n",
    "    \n",
    "quadrillage 4 3"
   ]
  },
  {
   "cell_type": "markdown",
   "id": "b3251a90-222c-4262-85c2-65f8d7a64d4e",
   "metadata": {},
   "source": [
    "### Caractérisation des arbres"
   ]
  },
  {
   "cell_type": "code",
   "execution_count": 10,
   "id": "ea3d2b25-d09c-46a5-94d7-bc92aa77563c",
   "metadata": {
    "vscode": {
     "languageId": "ocaml"
    }
   },
   "outputs": [
    {
     "data": {
      "text/plain": [
       "val representant : int array -> int -> int = <fun>\n"
      ]
     },
     "execution_count": 10,
     "metadata": {},
     "output_type": "execute_result"
    },
    {
     "data": {
      "text/plain": [
       "val p : int array = [|-2; 5; 0; 7; 7; 6; -3; -2; 6|]\n"
      ]
     },
     "execution_count": 10,
     "metadata": {},
     "output_type": "execute_result"
    },
    {
     "data": {
      "text/plain": [
       "- : int = 6\n"
      ]
     },
     "execution_count": 10,
     "metadata": {},
     "output_type": "execute_result"
    }
   ],
   "source": [
    "(* 11. *)\n",
    "let rec representant p s =\n",
    "    if p.(s) < 0 then s\n",
    "    else representant p p.(s);;\n",
    "\n",
    "let p = [| -2; 5; 0; 7; 7; 6; -3; -2; 6 |];;\n",
    "representant p 1"
   ]
  },
  {
   "cell_type": "code",
   "execution_count": 11,
   "id": "e7238c41-ca80-4b5d-81ab-b5e90912c5ca",
   "metadata": {
    "vscode": {
     "languageId": "ocaml"
    }
   },
   "outputs": [
    {
     "data": {
      "text/plain": [
       "val union : int array -> int -> int -> unit = <fun>\n"
      ]
     },
     "execution_count": 11,
     "metadata": {},
     "output_type": "execute_result"
    },
    {
     "data": {
      "text/plain": [
       "- : int array = [|7; 5; 0; 7; 7; 6; -3; -3; 6|]\n"
      ]
     },
     "execution_count": 11,
     "metadata": {},
     "output_type": "execute_result"
    }
   ],
   "source": [
    "(* 12. *)\n",
    "let union p s t =\n",
    "    if p.(s) = p.(t) then p.(t) <- p.(t) - 1;\n",
    "    if p.(s) < p.(t) then p.(t) <- s\n",
    "    else p.(s) <- t;;\n",
    "    \n",
    "union p 0 7; p"
   ]
  },
  {
   "cell_type": "code",
   "execution_count": 18,
   "id": "87bb4214-06b3-4149-a01c-ecc1ea9d0331",
   "metadata": {
    "vscode": {
     "languageId": "ocaml"
    }
   },
   "outputs": [
    {
     "data": {
      "text/plain": [
       "val est_un_arbre : int list array -> bool = <fun>\n"
      ]
     },
     "execution_count": 18,
     "metadata": {},
     "output_type": "execute_result"
    }
   ],
   "source": [
    "(* 15. *)\n",
    "let est_un_arbre g =\n",
    "    let r = ref true in\n",
    "    let n = Array.length g in\n",
    "    let p = Array.init n (fun i -> -1) in\n",
    "    for i = 0 to n - 1 do\n",
    "        let ri = representant p i in\n",
    "        List.iter (fun j -> \n",
    "            if j > i then\n",
    "            let rj = representant p j in\n",
    "            if ri = rj then r := false\n",
    "            else union p ri rj) g.(i)\n",
    "    done;\n",
    "    nombre_aretes g = n - 1;;\n",
    "    \n",
    "let () = assert (not (est_un_arbre [| []; [3; 4]; [3]; [1; 2; 4; 4]; [1; 3; 3] |])\n",
    "&& est_un_arbre [| [1]; [0; 3]; [3]; [1; 2; 4]; [3] |])"
   ]
  },
  {
   "cell_type": "code",
   "execution_count": null,
   "id": "ae72c5e8-b832-4b45-9c58-0b37447adf35",
   "metadata": {
    "vscode": {
     "languageId": "ocaml"
    }
   },
   "outputs": [
    {
     "data": {
      "text/plain": [
       "type chemin = { debut : int; mutable fin : int; suivant : int array; }\n"
      ]
     },
     "execution_count": 11,
     "metadata": {},
     "output_type": "execute_result"
    },
    {
     "data": {
      "text/plain": [
       "val marche_aleatoire : int array array -> int array -> int -> chemin = <fun>\n"
      ]
     },
     "execution_count": 11,
     "metadata": {},
     "output_type": "execute_result"
    }
   ],
   "source": [
    "(* 18. *)\n",
    "type chemin = {debut : int; mutable fin : int; suivant : int array};;\n",
    "\n",
    "let marche_aleatoire adj parent s =\n",
    "    let c = {\n",
    "        debut = s;\n",
    "        fin = s;\n",
    "        suivant = Array.make (Array.length adj) (-1)\n",
    "    } in\n",
    "    while parent.(c.fin) = -2 do\n",
    "        let i = Random.int (Array.length adj.(c.fin)) in\n",
    "        let v = adj.(c.fin).(i) in\n",
    "        c.suivant.(c.fin) <- v;\n",
    "        c.fin <- v;\n",
    "    done;\n",
    "    c"
   ]
  },
  {
   "cell_type": "code",
   "execution_count": null,
   "id": "cb226a9a-e4e6-4cb7-a942-667e9568ebfc",
   "metadata": {
    "vscode": {
     "languageId": "ocaml"
    }
   },
   "outputs": [
    {
     "data": {
      "text/plain": [
       "val greffe : int array -> chemin -> unit = <fun>\n"
      ]
     },
     "execution_count": 12,
     "metadata": {},
     "output_type": "execute_result"
    }
   ],
   "source": [
    "(* 19. *)\n",
    "let rec greffe parent c =\n",
    "    let u = ref c.debut in\n",
    "    while !u <> c.fin do\n",
    "        let v = c.suivant.(!u) in\n",
    "        parent.(!u) <- v;\n",
    "        u := v\n",
    "    done"
   ]
  },
  {
   "cell_type": "code",
   "execution_count": null,
   "id": "a63cb652-12a3-4b71-b935-9ff2ab5ca873",
   "metadata": {
    "vscode": {
     "languageId": "ocaml"
    }
   },
   "outputs": [
    {
     "data": {
      "text/plain": [
       "val wilson : int list array -> int -> int array = <fun>\n"
      ]
     },
     "execution_count": 13,
     "metadata": {},
     "output_type": "execute_result"
    },
    {
     "data": {
      "text/plain": [
       "- : int array = [|-1; 0; 1; 4; 1; 4|]\n"
      ]
     },
     "execution_count": 13,
     "metadata": {},
     "output_type": "execute_result"
    }
   ],
   "source": [
    "(* 20. *)\n",
    "let wilson g r =\n",
    "    let adj = adjacence g in\n",
    "    let parent = Array.make (Array.length g) (-2) in\n",
    "    parent.(r) <- -1;\n",
    "    for s = 0 to Array.length parent - 1 do\n",
    "        if parent.(s) = -2 then\n",
    "            let c = marche_aleatoire adj parent s in\n",
    "            greffe parent c\n",
    "    done;\n",
    "    parent;;\n",
    "    \n",
    "wilson g32_list 0"
   ]
  },
  {
   "cell_type": "markdown",
   "id": "92661348-5c37-4225-8af6-c4949b9cedc7",
   "metadata": {
    "tags": []
   },
   "source": [
    "### Arbres couvrants et pavages par des dominos"
   ]
  },
  {
   "cell_type": "code",
   "execution_count": null,
   "id": "cfdae827-1181-452f-9d0b-1eebe04c5f87",
   "metadata": {
    "vscode": {
     "languageId": "ocaml"
    }
   },
   "outputs": [
    {
     "data": {
      "text/plain": [
       "type direction = S | W | N | E\n"
      ]
     },
     "execution_count": 12,
     "metadata": {},
     "output_type": "execute_result"
    },
    {
     "data": {
      "text/plain": [
       "val p : int = 4\n"
      ]
     },
     "execution_count": 12,
     "metadata": {},
     "output_type": "execute_result"
    },
    {
     "data": {
      "text/plain": [
       "val q : int = 3\n"
      ]
     },
     "execution_count": 12,
     "metadata": {},
     "output_type": "execute_result"
    }
   ],
   "source": [
    "type direction = S | W | N | E;;\n",
    "let p = 4;;\n",
    "let q = 3;;"
   ]
  },
  {
   "cell_type": "code",
   "execution_count": null,
   "id": "2264201b-3706-40bd-9a7e-31a66b7d0dba",
   "metadata": {
    "vscode": {
     "languageId": "ocaml"
    }
   },
   "outputs": [
    {
     "data": {
      "text/plain": [
       "val coord_noire : int -> int * int = <fun>\n"
      ]
     },
     "execution_count": 13,
     "metadata": {},
     "output_type": "execute_result"
    },
    {
     "data": {
      "text/plain": [
       "- : int * int = (4, 2)\n"
      ]
     },
     "execution_count": 13,
     "metadata": {},
     "output_type": "execute_result"
    }
   ],
   "source": [
    "(* 24. *)\n",
    "let coord_noire i = 2*(i mod p), 2*(i/p);;\n",
    "\n",
    "coord_noire 6"
   ]
  },
  {
   "cell_type": "code",
   "execution_count": null,
   "id": "946b5ea5-742b-4a68-9e8e-40f263abd626",
   "metadata": {
    "vscode": {
     "languageId": "ocaml"
    }
   },
   "outputs": [
    {
     "data": {
      "text/plain": [
       "val coord_noire : int -> int * int = <fun>\n"
      ]
     },
     "execution_count": 14,
     "metadata": {},
     "output_type": "execute_result"
    },
    {
     "data": {
      "text/plain": [
       "- : int * int = (4, 10)\n"
      ]
     },
     "execution_count": 14,
     "metadata": {},
     "output_type": "execute_result"
    }
   ],
   "source": [
    "let coord_noire i = 2*(i mod p), 2*(i - i/p);;\n",
    "\n",
    "coord_noire 6"
   ]
  },
  {
   "cell_type": "code",
   "execution_count": null,
   "id": "a1ce934a-f8e0-4f3a-a5cd-dfcb48225597",
   "metadata": {
    "vscode": {
     "languageId": "ocaml"
    }
   },
   "outputs": [
    {
     "data": {
      "text/plain": [
       "val sommet_direction : int -> direction -> int = <fun>\n"
      ]
     },
     "execution_count": 16,
     "metadata": {},
     "output_type": "execute_result"
    },
    {
     "data": {
      "text/plain": [
       "- : int = 4\n"
      ]
     },
     "execution_count": 16,
     "metadata": {},
     "output_type": "execute_result"
    }
   ],
   "source": [
    "(* 25. *)\n",
    "let sommet_direction s d = \n",
    "    let i, j = coord_noire s in\n",
    "    match d with\n",
    "        | N -> if j = q - 1 then -1 else s + p\n",
    "        | S -> if j = 0 then -1 else s - p\n",
    "        | W -> if i = 0 then -1 else s - 1\n",
    "        | E -> if i = p - 1 then -1 else s + 1;;\n",
    "        \n",
    "sommet_direction 5 W"
   ]
  },
  {
   "cell_type": "code",
   "execution_count": null,
   "id": "715d6d85-68d0-4bc7-a14a-00f5daa1245c",
   "metadata": {
    "vscode": {
     "languageId": "ocaml"
    }
   },
   "outputs": [
    {
     "data": {
      "text/plain": [
       "val phi : direction array -> int array = <fun>\n"
      ]
     },
     "execution_count": 17,
     "metadata": {},
     "output_type": "execute_result"
    }
   ],
   "source": [
    "(* 26. *)\n",
    "let phi pavage =\n",
    "    let n = Array.length pavage in\n",
    "    let parent = Array.make n (-2) in\n",
    "    for i = 0 to n - 1 do\n",
    "        parent.(i) <- sommet_direction i pavage.(i)\n",
    "    done;\n",
    "    parent"
   ]
  },
  {
   "cell_type": "code",
   "execution_count": null,
   "id": "12d40406-5816-4a13-91b9-eca1496a3af0",
   "metadata": {
    "vscode": {
     "languageId": "ocaml"
    }
   },
   "outputs": [
    {
     "data": {
      "text/plain": [
       "val dual : unit -> int list array = <fun>\n"
      ]
     },
     "execution_count": 27,
     "metadata": {},
     "output_type": "execute_result"
    }
   ],
   "source": [
    "(* 27. *)\n",
    "\n",
    "let dual () =\n",
    "    let n' = (p - 1)*(q - 1) + 1 in\n",
    "    let g' = Array.make n' [] in\n",
    "    let g = quadrillage (p - 1) (q - 1) in\n",
    "    for i = 0 to n' - 2 do\n",
    "        g'.(i + 1) <- List.map ((+) 1) g.(i)\n",
    "    done;\n",
    "    let add i = \n",
    "        g'.(i) <- 0::g'.(i);\n",
    "        g'.(0) <- i::g'.(0) in\n",
    "    for i = 1 to p - 1 do add i done; (* bord du bas *)\n",
    "    for i = n' - p + 1 to n' - 1 do add i done; (* bord du haut *)\n",
    "    for i = 1 to q - 1 do add (i*(p - 1)) done; (* bord droit *)\n",
    "    for i = 1 to q - 1 do add (1 + (i - 1)*(p - 1)) done; (* bord gauche *)\n",
    "    g'"
   ]
  },
  {
   "cell_type": "code",
   "execution_count": null,
   "id": "419ce773-dcc1-46c2-8128-9fd8f46759ea",
   "metadata": {
    "vscode": {
     "languageId": "ocaml"
    }
   },
   "outputs": [
    {
     "data": {
      "text/plain": [
       "val g_etoile : int list array =\n",
       "  [|[4; 1; 6; 3; 6; 5; 4; 3; 2; 1]; [0; 0; 4; 2]; [0; 5; 3; 1]; [0; 0; 6; 2];\n",
       "    [0; 0; 1; 5]; [0; 2; 6; 4]; [0; 0; 3; 5]|]\n"
      ]
     },
     "execution_count": 26,
     "metadata": {},
     "output_type": "execute_result"
    }
   ],
   "source": [
    "let g_etoile = dual ()"
   ]
  }
 ],
 "metadata": {
  "kernelspec": {
   "display_name": "OCaml 4.14",
   "language": "OCaml",
   "name": "ocaml-jupyter"
  },
  "language_info": {
   "codemirror_mode": "text/x-ocaml",
   "file_extension": ".ml",
   "mimetype": "text/x-ocaml",
   "name": "OCaml",
   "nbconverter_exporter": null,
   "pygments_lexer": "OCaml",
   "version": "4.14.0"
  },
  "vscode": {
   "interpreter": {
    "hash": "31f2aee4e71d21fbe5cf8b01ff0e069b9275f58929596ceb00d14d90e3e16cd6"
   }
  }
 },
 "nbformat": 4,
 "nbformat_minor": 5
}
