{
 "cells": [
  {
   "attachments": {},
   "cell_type": "markdown",
   "metadata": {},
   "source": [
    "# TP : 2-approximation du voyageur de commerce\n",
    "\n",
    "> Ce TP est à rendre au plus tard ce **dimanche 27 novembre**. Le plus simple est de répondre à ce TP sur [Capytale](https://cas.ent.auvergnerhonealpes.fr/login?service=https%3A//capytale2.ac-paris.fr/web/c-auth/pvd/mcer/connect). J'aurai alors directement accès à votre fichier que je commenterai.  \n",
    "> [**Lien pour répondre au TP sur Capytale (se connecter avec les identifiants ENT puis cliquer sur Go !).**](https://capytale2.ac-paris.fr/web/c/6116-1007301)  \n",
    "> Si vous ne pouvez pas vous connecter sur Capytale, vous pouvez terminer le TP sur Basthon, puis télécharger et m'envoyer le notebook, à qpfortier@gmail.com.\n",
    "\n",
    "<center><img src=https://imgs.xkcd.com/comics/travelling_salesman_problem.png width=60%></center>\n",
    "\n",
    "---\n",
    "\n",
    "Soit $G$ un graphe non orienté, complet et pondéré. Le **problème du voyageur de commerce** consiste à trouver un cycle de poids minimum passant par tous les sommets de $G$. Ce problème est NP-difficile, ce qui signifie qu'il n'existe probablement pas d'algorithme efficace (polynomial en la taille de l'entrée) pour le résoudre de façon exacte.  \n",
    "À la place, on va trouver une solution approchée à ce problème. En effet, nous allons trouver un cycle dont le poids est au plus le double de l'optimal, avec l'algorithme suivant :  \n",
    "1. Calcul d'un arbre couvrant de poids minimal $T$ dans $G$, avec l'algorithme de Kruskal.  \n",
    "2. Construction un cycle $C$ en parcourant $T$ en profondeur, en commençant par un sommet quelconque.\n",
    "  \n",
    "On admettra que, si $G$ est euclidien (c'est-à-dire que les poids des arêtes vérifient l'inégalité triangulaire - ce qui est le cas pour des coordonnées), alors cet algorithme trouve un cycle de poids au plus le double de l'optimal ([voir une démonstration](https://perso.eleves.ens-rennes.fr/people/julie.parreaux/fichiers_agreg/info_dev/ApproximationTSP.pdf))."
   ]
  },
  {
   "cell_type": "markdown",
   "metadata": {},
   "source": [
    "## Graphe des villes\n",
    "\n",
    "<center><img src=https://raw.githubusercontent.com/mp-info/mp-info.github.io/main/files/tp/tp_tsp/cities.png width=60%></center>\n",
    "\n",
    "Nous allons tester nos fonctions sur le graphe des 10 plus grandes villes françaises, où le poids entre deux villes est sa distance à vol d'oiseau. Sur la carte ci-dessus, on a affiché le cycle de poids minimum passant par toutes ces villes (on admet qu'il est bien minimum).\n",
    "\n",
    "Le tableau `cities` contient les coordonnées GPS des villes :"
   ]
  },
  {
   "cell_type": "code",
   "execution_count": 2,
   "metadata": {
    "vscode": {
     "languageId": "ocaml"
    }
   },
   "outputs": [
    {
     "data": {
      "text/plain": [
       "val cities : (float * float) array =\n",
       "  [|(50.6333, 3.06667); (44.8333, -0.566667); (43.6, 3.88333);\n",
       "    (48.5833, 7.75); (47.2167, -1.55); (43.7, 7.25); (43.6, 1.43333);\n",
       "    (45.7589, 4.84139); (43.2967, 5.37639); (48.86, 2.34445)|]\n"
      ]
     },
     "execution_count": 2,
     "metadata": {},
     "output_type": "execute_result"
    }
   ],
   "source": [
    "let cities = [|(50.6333, 3.06667); (44.8333, -0.566667); (43.6, 3.88333); (48.5833, 7.75); (47.2167, -1.55); (43.7, 7.25); (43.6, 1.43333); (45.7589, 4.84139); (43.2967, 5.37639); (48.86, 2.34445)|]"
   ]
  },
  {
   "cell_type": "markdown",
   "metadata": {},
   "source": [
    "Dans la suite, on identifiera les villes par leur indice dans le tableau `cities`.\n",
    "\n",
    "Pour calculer la distance (en kms) à vol d'oiseau entre deux villes de coordonnées $(\\phi_1, \\lambda_1)$ et $(\\phi_2, \\lambda_2)$ (en radians), on utilisera la formule de suivante (distance sur une sphère) :  \n",
    "\n",
    "$$\n",
    "R \\arccos \\left( \\sin \\phi_1 \\sin \\phi_2 + \\cos \\phi_1 \\cos \\phi_2 \\cos (\\lambda_2 - \\lambda_1) \\right)\n",
    "$$\n",
    "\n",
    "où $R \\approx 6400$ km est le rayon de la Terre."
   ]
  },
  {
   "cell_type": "markdown",
   "metadata": {},
   "source": [
    "````{admonition} Question\n",
    " Écrire une fonction `deg_to_rad : float -> float` qui convertit un angle en degrés en radians. On utilisera $\\pi \\approx 3.14$.\n",
    "````"
   ]
  },
  {
   "cell_type": "markdown",
   "execution_count": 3,
   "metadata": {
    "tags": [
     "cor"
    ],
    "vscode": {
     "languageId": "ocaml"
    }
   },
   "source": [
    "````{admonition} Solution\n",
    ":class: tip, dropdown\n",
    "``` ocaml\n",
    "let deg_to_rad d = d *. 3.14 /. 180.0\n",
    "```\n",
    "``` \n",
    "val deg_to_rad : float -> float = <fun>\n",
    "\n",
    "\n",
    "```\n",
    "````"
   ]
  },
  {
   "cell_type": "markdown",
   "metadata": {},
   "source": [
    "````{admonition} Question\n",
    " Écrire une fonction `d i j` qui renvoie la distance entre les villes `i` et `j` (en km). On utilisera `cos`, `sin` et `acos` (pour $\\arccos$).\n",
    "````"
   ]
  },
  {
   "cell_type": "markdown",
   "execution_count": 4,
   "metadata": {
    "tags": [
     "cor"
    ],
    "vscode": {
     "languageId": "ocaml"
    }
   },
   "source": [
    "````{admonition} Solution\n",
    ":class: tip, dropdown\n",
    "``` ocaml\n",
    "let d i j =\n",
    "  let (phi1, lambda1) = cities.(i) in\n",
    "  let (phi2, lambda2) = cities.(j) in\n",
    "  let phi1 = deg_to_rad phi1 in\n",
    "  let phi2 = deg_to_rad phi2 in\n",
    "  let lambda1 = deg_to_rad lambda1 in\n",
    "  let lambda2 = deg_to_rad lambda2 in\n",
    "  6400. *. acos (sin phi1 *. sin phi2 +. cos phi1 *. cos phi2 *. cos (lambda2 -. lambda1))\n",
    "```\n",
    "``` \n",
    "val d : int -> int -> float = <fun>\n",
    "\n",
    "\n",
    "```\n",
    "````"
   ]
  },
  {
   "cell_type": "code",
   "execution_count": 5,
   "metadata": {
    "vscode": {
     "languageId": "ocaml"
    }
   },
   "outputs": [
    {
     "data": {
      "text/plain": [
       "- : float = 837.684895087478253\n"
      ]
     },
     "execution_count": 5,
     "metadata": {},
     "output_type": "execute_result"
    }
   ],
   "source": [
    "d 0 8 (* distance entre Lille et Marseille *)"
   ]
  },
  {
   "cell_type": "markdown",
   "metadata": {},
   "source": [
    "````{admonition} Question\n",
    " Définir une variable `g_cities` qui contient la matrice pondérée du graphe complet dont les sommets sont les villes de `cities` et dont les arêtes ont pour poids la distance à vol d'oiseau entre les villes.\n",
    "````"
   ]
  },
  {
   "cell_type": "markdown",
   "execution_count": 6,
   "metadata": {
    "tags": [
     "cor"
    ],
    "vscode": {
     "languageId": "ocaml"
    }
   },
   "source": [
    "````{admonition} Solution\n",
    ":class: tip, dropdown\n",
    "``` ocaml\n",
    "let g_cities = Array.make_matrix 10 10 0.\n",
    "\n",
    "let () =\n",
    "  for i = 0 to 9 do\n",
    "    for j = 0 to 9 do\n",
    "      g_cities.(i).(j) <- d i j\n",
    "    done\n",
    "  done\n",
    "```\n",
    "``` \n",
    "val g_cities : float array array =\n",
    "  [|[|0.; 0.; 0.; 0.; 0.; 0.; 0.; 0.; 0.; 0.|];\n",
    "    [|0.; 0.; 0.; 0.; 0.; 0.; 0.; 0.; 0.; 0.|];\n",
    "    [|0.; 0.; 0.; 0.; 0.; 0.; 0.; 0.; 0.; 0.|];\n",
    "    [|0.; 0.; 0.; 0.; 0.; 0.; 0.; 0.; 0.; 0.|];\n",
    "    [|0.; 0.; 0.; 0.; 0.; 0.; 0.; 0.; 0.; 0.|];\n",
    "    [|0.; 0.; 0.; 0.; 0.; 0.; 0.; 0.; 0.; 0.|];\n",
    "    [|0.; 0.; 0.; 0.; 0.; 0.; 0.; 0.; 0.; 0.|];\n",
    "    [|0.; 0.; 0.; 0.; 0.; 0.; 0.; 0.; 0.; 0.|];\n",
    "    [|0.; 0.; 0.; 0.; 0.; 0.; 0.; 0.; 0.; 0.|];\n",
    "    [|0.; 0.; 0.; 0.; 0.; 0.; 0.; 0.; 0.; 0.|]|]\n",
    "\n",
    "\n",
    "```\n",
    "````"
   ]
  },
  {
   "cell_type": "markdown",
   "metadata": {},
   "source": [
    "On représente un cycle par une liste de sommets. Par exemple, `[0; 3; 7; 5; 8; 2; 6; 1; 4; 9]` est le cycle qui commence à la ville `0` (Lille) puis va à la ville `3` (Strasbourg)... jusqu'à la ville `9` (Paris) et revient à la ville `0` (Lille)."
   ]
  },
  {
   "cell_type": "markdown",
   "metadata": {},
   "source": [
    "````{admonition} Exercice\n",
    " Écrire une fonction `length_cycle : int list -> float` qui renvoie la longueur d'un cycle (en utilisant `g_cities`).  \n",
    "````"
   ]
  },
  {
   "cell_type": "markdown",
   "execution_count": 7,
   "metadata": {
    "tags": [
     "cor"
    ],
    "vscode": {
     "languageId": "ocaml"
    }
   },
   "source": [
    "````{admonition} Solution\n",
    ":class: tip, dropdown\n",
    "``` ocaml\n",
    "let length_cycle cycle =\n",
    "  let debut = List.hd cycle in\n",
    "  let rec aux = function\n",
    "    | [] -> 0.\n",
    "    | [x] -> g_cities.(x).(debut)\n",
    "    | x :: y :: xs -> g_cities.(x).(y) +. aux (y :: xs) in\n",
    "  aux cycle\n",
    "```\n",
    "``` \n",
    "val length_cycle : int list -> float = <fun>\n",
    "\n",
    "\n",
    "```\n",
    "````"
   ]
  },
  {
   "cell_type": "code",
   "execution_count": 8,
   "metadata": {
    "vscode": {
     "languageId": "ocaml"
    }
   },
   "outputs": [
    {
     "data": {
      "text/plain": [
       "- : float = 2611.39276745210555\n"
      ]
     },
     "execution_count": 8,
     "metadata": {},
     "output_type": "execute_result"
    }
   ],
   "source": [
    "length_cycle [0; 3; 7; 5; 8; 2; 6; 1; 4; 9]"
   ]
  },
  {
   "cell_type": "markdown",
   "metadata": {},
   "source": [
    "## Tas\n",
    "\n",
    "Pour implémenter l'algorithme de Kruskal, il faut considérer les arêtes par poids croissant. Pour cela, on va utiliser un tas min.  \n",
    "Remarque : on pourrait aussi utiliser n'importe quel algorithme de tri, comme dans le cours.\n",
    "\n",
    "On rappelle qu'un tas min est un arbre presque complet dans lequel chaque noeud est plus petit que ses deux fils. On stocke les sommets du tas min dans un tableau $a$ tel que le fils gauche de `a.(i)` est `a.(2*i+1)` et le fils droit est `a.(2*i+2)`. Le père de `a.(i)` est `a.(i - 1)/2`.  \n",
    "\n",
    "Voici un exemple de tas min, représenté par le tableau `[|0; 1; 4; 3; 2; 5|]` :\n",
    "<center><img src=https://raw.githubusercontent.com/fortierq/tikz/master/tree/heap/heap_min/heap_min.png width=30%></center>"
   ]
  },
  {
   "cell_type": "markdown",
   "metadata": {},
   "source": [
    "Nous allons utiliser le même type que dans le cours :"
   ]
  },
  {
   "cell_type": "code",
   "execution_count": 9,
   "metadata": {
    "vscode": {
     "languageId": "ocaml"
    }
   },
   "outputs": [
    {
     "data": {
      "text/plain": [
       "type 'a heap = { a : 'a array; mutable n : int; }\n"
      ]
     },
     "execution_count": 9,
     "metadata": {},
     "output_type": "execute_result"
    }
   ],
   "source": [
    "type 'a heap = {a : 'a array; mutable n : int}"
   ]
  },
  {
   "cell_type": "markdown",
   "metadata": {},
   "source": [
    "On rappelle que `n` est le nombre d'éléments dans le tas, et que la taille de `a` peut être supérieure à `n` (pour éviter de réallouer à chaque fois qu'on ajoute un élément)."
   ]
  },
  {
   "cell_type": "markdown",
   "metadata": {},
   "source": [
    "````{admonition} Question\n",
    " Écrire une fonction `swap : 'a heap -> int -> int -> unit` qui échange les éléments d'indice `i` et `j` dans le tableau `a` du tas `h`.\n",
    "````"
   ]
  },
  {
   "cell_type": "markdown",
   "execution_count": 10,
   "metadata": {
    "tags": [
     "cor"
    ],
    "vscode": {
     "languageId": "ocaml"
    }
   },
   "source": [
    "````{admonition} Solution\n",
    ":class: tip, dropdown\n",
    "``` ocaml\n",
    "let swap h i j =\n",
    "  let tmp = h.a.(i) in\n",
    "  h.a.(i) <- h.a.(j);\n",
    "  h.a.(j) <- tmp\n",
    "```\n",
    "``` \n",
    "val swap : 'a heap -> int -> int -> unit = <fun>\n",
    "\n",
    "\n",
    "```\n",
    "````"
   ]
  },
  {
   "cell_type": "markdown",
   "metadata": {},
   "source": [
    "````{admonition} Question\n",
    " Écrire une fonction `add : 'a heap -> 'a -> unit` qui ajoute un élément à un tas. Il faut :  \n",
    "- Ajouter l'élément à la fin du tableau.  \n",
    "- Remonter l'élément jusqu'à ce qu'il soit plus petit que son père (ou qu'il soit à la racine). On pourra utiliser une fonction récursive auxiliaire (équivalente à la fonction `up` du cours).\n",
    "````"
   ]
  },
  {
   "cell_type": "markdown",
   "execution_count": 26,
   "metadata": {
    "tags": [
     "cor"
    ],
    "vscode": {
     "languageId": "ocaml"
    }
   },
   "source": [
    "````{admonition} Solution\n",
    ":class: tip, dropdown\n",
    "``` ocaml\n",
    "let add h x =\n",
    "  let rec aux i =\n",
    "    let p = (i - 1) / 2 in\n",
    "    if p >= 0 && h.a.(p) > x then (\n",
    "      swap h i p;\n",
    "      aux p\n",
    "    ) in\n",
    "  h.a.(h.n) <- x;\n",
    "  aux h.n;\n",
    "  h.n <- h.n + 1\n",
    "```\n",
    "``` \n",
    "val add : 'a heap -> 'a -> unit = <fun>\n",
    "\n",
    "\n",
    "```\n",
    "````"
   ]
  },
  {
   "cell_type": "markdown",
   "metadata": {},
   "source": [
    "````{admonition} Question\n",
    " Écrire une fonction `extract_min : 'a heap -> 'a` qui supprime et renvoie le minimum du tas. Il faut :  \n",
    "- Remplacer la racine par le dernier élément du tableau.  \n",
    "- Descendre l'élément jusqu'à ce qu'il soit plus petit que ses deux fils (ou qu'il soit une feuille). On pourra utiliser une fonction récursive auxiliaire (équivalente à la fonction `down` du cours).\n",
    "````"
   ]
  },
  {
   "cell_type": "markdown",
   "execution_count": 27,
   "metadata": {
    "tags": [
     "cor"
    ],
    "vscode": {
     "languageId": "ocaml"
    }
   },
   "source": [
    "````{admonition} Solution\n",
    ":class: tip, dropdown\n",
    "``` ocaml\n",
    "let extract_min h =\n",
    "  let rec down i =\n",
    "    let m = ref i in (* minimum parmi i et ses deux fils *)\n",
    "    if 2*i + 1 < h.n && h.a.(2*i + 1) < h.a.(!m) then m := 2*i + 1;\n",
    "    if 2*i + 2 < h.n && h.a.(2*i + 2) < h.a.(!m) then m := 2*i + 2;\n",
    "    if !m <> i then (\n",
    "      swap h i !m;\n",
    "      down !m\n",
    "    ) in\n",
    "  let x = h.a.(0) in\n",
    "  h.n <- h.n - 1;\n",
    "  h.a.(0) <- h.a.(h.n);\n",
    "  down 0;\n",
    "  x\n",
    "```\n",
    "``` \n",
    "val extract_min : 'a heap -> 'a = <fun>\n",
    "\n",
    "\n",
    "```\n",
    "````"
   ]
  },
  {
   "cell_type": "markdown",
   "metadata": {},
   "source": [
    "````{admonition} Question\n",
    " En utilisant les fonctions précédentes, définir un tas min en ajoutant 3, 1, 2, 0 puis en supprimant deux fois le minimum puis en ajoutant 5, 0, 1, 4. Vérifier que vous obtenez le tas représenté sur l'exemple en début de section.\n",
    "````"
   ]
  },
  {
   "cell_type": "code",
   "execution_count": 28,
   "metadata": {
    "vscode": {
     "languageId": "ocaml"
    }
   },
   "outputs": [
    {
     "data": {
      "text/plain": [
       "val h : int heap = {a = [|0; 0; 0; 0; 0; 0; 0; 0; 0; 0|]; n = 0}\n"
      ]
     },
     "execution_count": 28,
     "metadata": {},
     "output_type": "execute_result"
    },
    {
     "data": {
      "text/plain": [
       "- : int heap = {a = [|0; 1; 2; 3; 0; 0; 0; 0; 0; 0|]; n = 4}\n"
      ]
     },
     "execution_count": 28,
     "metadata": {},
     "output_type": "execute_result"
    },
    {
     "data": {
      "text/plain": [
       "- : int heap = {a = [|0; 1; 4; 3; 2; 5; 0; 0; 0; 0|]; n = 6}\n"
      ]
     },
     "execution_count": 28,
     "metadata": {},
     "output_type": "execute_result"
    }
   ],
   "source": [
    "let h = {a = Array.make 10 0; n = 0};;\n",
    "add h 3; add h 1; add h 2; add h 0; h;;\n",
    "for i = 0 to 1 do ignore (extract_min h) done;\n",
    "add h 5; add h 0; add h 1; add h 4;\n",
    "h"
   ]
  },
  {
   "cell_type": "markdown",
   "metadata": {},
   "source": [
    "## Algorithme de Kruskal\n",
    "\n",
    "On rappelle l'algorithme de Kruskal (dans la version utilisant une file de priorité) :  \n",
    "1 On crée un tas min contenant toutes les arêtes du graphe $G$, sous forme de triplets (poids, sommet de départ, sommet d'arrivée).  \n",
    "2 On crée un arbre couvrant de poids minimum $T$, en ajoutant les arêtes du tas min dans l'ordre croissant de leur poids, si cela ne crée pas de cycle.\n",
    "\n",
    "Contrairement à $G$ qui est représenté par une matrice pondérée (comme `g_cities`), $T$ sera représenté par une liste d'adjacence. Ceci est justifié par le fait que $G$ contient beaucoup d'arêtes ($\\binom{n}{2}$) alors que $T$ en contient peu (environ $n-1$). De plus, on ne stocke pas les poids dans $T$ (on peut les retrouver dans $G$).\n",
    "\n",
    "Pour détecter si une arête $\\{u, v\\}$ crée un cycle, il suffit de regarder (dans $T$) s'il y a un chemin de $u$ à $v$, ce qui peut être fait grâce à un parcours de graphe (DFS ou BFS)."
   ]
  },
  {
   "cell_type": "markdown",
   "metadata": {},
   "source": [
    "````{admonition} Question\n",
    " Écrire une fonction `has_path : int list array -> int -> int -> bool` telle que `has_path t u v` renvoie `true` si et seulement s'il existe un chemin entre les sommets `u` et `v` dans le graphe `t`.\n",
    "````"
   ]
  },
  {
   "cell_type": "markdown",
   "execution_count": 12,
   "metadata": {
    "tags": [
     "cor"
    ],
    "vscode": {
     "languageId": "ocaml"
    }
   },
   "source": [
    "````{admonition} Solution\n",
    ":class: tip, dropdown\n",
    "``` ocaml\n",
    "let has_path t u v =\n",
    "  let n = Array.length t in\n",
    "  let visited = Array.make n false in\n",
    "  let rec aux u =\n",
    "    if not visited.(u) then (\n",
    "       visited.(u) <- true;\n",
    "       List.iter aux t.(u)\n",
    "    ) in\n",
    "   aux u;\n",
    "   visited.(v)\n",
    "```\n",
    "``` \n",
    "val has_path : int list array -> int -> int -> bool = <fun>\n",
    "\n",
    "\n",
    "```\n",
    "````"
   ]
  },
  {
   "cell_type": "markdown",
   "metadata": {},
   "source": [
    "````{admonition} Question\n",
    " Écrire une fonction `kruskal : float array array -> int list array` telle que `kruskal g` renvoie un arbre couvrant de poids minimum du graphe `g`.\n",
    "````"
   ]
  },
  {
   "cell_type": "markdown",
   "execution_count": 13,
   "metadata": {
    "tags": [
     "cor"
    ],
    "vscode": {
     "languageId": "ocaml"
    }
   },
   "source": [
    "````{admonition} Solution\n",
    ":class: tip, dropdown\n",
    "``` ocaml\n",
    "let kruskal g =\n",
    "  let n = Array.length g in\n",
    "  let p = n*n in (* nombre d'arêtes *)\n",
    "  let h = {a = Array.make p (0., 0, 0); n = 0} in\n",
    "  for i = 0 to n - 1 do\n",
    "    for j = 0 to n - 1 do\n",
    "      add h (g.(i).(j), i, j)\n",
    "    done\n",
    "  done;\n",
    "  let mst = Array.make n [] in\n",
    "  for i = 0 to p - 1 do\n",
    "      let (w, u, v) = extract_min h in\n",
    "      if not (has_path mst u v) then (\n",
    "        mst.(u) <- v :: mst.(u);\n",
    "        mst.(v) <- u :: mst.(v);\n",
    "      )\n",
    "  done;\n",
    "  mst\n",
    "```\n",
    "``` \n",
    "val kruskal : float array array -> int list array = <fun>\n",
    "\n",
    "\n",
    "```\n",
    "````"
   ]
  },
  {
   "cell_type": "code",
   "execution_count": 14,
   "metadata": {
    "vscode": {
     "languageId": "ocaml"
    }
   },
   "outputs": [
    {
     "data": {
      "text/plain": [
       "- : int list array =\n",
       "[|[7; 2; 6; 5; 8]; [3]; [0]; [6; 1]; [5]; [9; 4; 0]; [3; 0]; [0]; [0]; [5]|]\n"
      ]
     },
     "execution_count": 14,
     "metadata": {},
     "output_type": "execute_result"
    }
   ],
   "source": [
    "kruskal g_cities"
   ]
  },
  {
   "cell_type": "markdown",
   "metadata": {},
   "source": [
    "## 2-approximation du voyageur de commerce\n",
    "\n"
   ]
  },
  {
   "cell_type": "markdown",
   "metadata": {},
   "source": [
    "````{admonition} Question\n",
    " Écrire une fonction `approx_tsp : float array array -> int list` telle que `approx_tsp g` :  \n",
    "1. Calcule un arbre couvrant de poids minimal `t` dans `g`.  \n",
    "2. Renvoie la liste des sommets de `t` dans un parcours en profondeur (dans l'ordre préfixe), en commençant par un sommet quelconque.\n",
    "````"
   ]
  },
  {
   "cell_type": "markdown",
   "execution_count": 15,
   "metadata": {
    "tags": [
     "cor"
    ],
    "vscode": {
     "languageId": "ocaml"
    }
   },
   "source": [
    "````{admonition} Solution\n",
    ":class: tip, dropdown\n",
    "``` ocaml\n",
    "let approx_tsp g =\n",
    "  let n = Array.length g in\n",
    "  let mst = kruskal g in\n",
    "  let visited = Array.make n false in\n",
    "  let tour = ref [] in\n",
    "  let rec aux u =\n",
    "    if not visited.(u) then (\n",
    "      visited.(u) <- true;\n",
    "      tour := u :: !tour;\n",
    "      List.iter aux mst.(u)\n",
    "    ) in\n",
    "  aux 0;\n",
    "  !tour\n",
    "```\n",
    "``` \n",
    "val approx_tsp : float array array -> int list = <fun>\n",
    "\n",
    "\n",
    "```\n",
    "````"
   ]
  },
  {
   "cell_type": "code",
   "execution_count": 17,
   "metadata": {
    "vscode": {
     "languageId": "ocaml"
    }
   },
   "outputs": [
    {
     "data": {
      "text/plain": [
       "- : int list = [8; 4; 9; 5; 1; 3; 6; 2; 7; 0]\n"
      ]
     },
     "execution_count": 17,
     "metadata": {},
     "output_type": "execute_result"
    }
   ],
   "source": [
    "approx_tsp g_cities"
   ]
  },
  {
   "cell_type": "markdown",
   "metadata": {},
   "source": [
    "````{admonition} Question\n",
    " Vérifier que le cycle renvoyé est bien de poids au plus deux fois le poids du cycle optimal.\n",
    "````"
   ]
  },
  {
   "cell_type": "markdown",
   "metadata": {},
   "source": [
    "## Pour ceux qui ont fini\n",
    "\n",
    "Cette partie n'est pas à rendre (sauf si vous avez le temps de le faire...)."
   ]
  },
  {
   "cell_type": "markdown",
   "metadata": {},
   "source": [
    "````{admonition} Question\n",
    " Écrire une fonction `prim : float array array -> int list array` telle que `prim g` renvoie un arbre couvrant de poids minimum du graphe `g`, en utilisant l'algorithme de Prim au lieu de celui de Kruskal (voir la fin du cours pour la description de l'algorithme). Vérifier que le poids de l'arbre couvrant obtenu est le même que celui avec l'algorithme de Kruskal.\n",
    "````"
   ]
  },
  {
   "cell_type": "markdown",
   "metadata": {},
   "source": [
    "````{admonition} Question\n",
    " Résoudre [ce problème](https://projecteuler.net/problem=83) sur projecteuler, en utilisant l'algorithme de Dijkstra.\n",
    "````"
   ]
  }
 ],
 "metadata": {
  "kernelspec": {
   "display_name": "OCaml default",
   "language": "OCaml",
   "name": "ocaml-jupyter"
  },
  "language_info": {
   "codemirror_mode": "text/x-ocaml",
   "file_extension": ".ml",
   "mimetype": "text/x-ocaml",
   "name": "OCaml",
   "nbconverter_exporter": null,
   "pygments_lexer": "OCaml",
   "version": "4.11.1"
  },
  "vscode": {
   "interpreter": {
    "hash": "767d51c1340bd893661ea55ea3124f6de3c7a262a8b4abca0554b478b1e2ff90"
   }
  }
 },
 "nbformat": 4,
 "nbformat_minor": 2
}
