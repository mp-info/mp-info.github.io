{
 "cells": [
  {
   "cell_type": "markdown",
   "id": "e2ba6bd9-07ca-41d4-b3fc-b80606117378",
   "metadata": {},
   "source": [
    "# Représentations de graphe"
   ]
  },
  {
   "cell_type": "markdown",
   "id": "2ce91749-d96f-437f-8564-dcd54b3af07c",
   "metadata": {},
   "source": [
    "<iframe src=https://mozilla.github.io/pdf.js/web/viewer.html?file=https://raw.githubusercontent.com/mp-info/mp-info.github.io/main/files/2_arbre_graphe/1_representation/representation.pdf#zoom=page-fit&pagemode=none height=500 width=100% allowfullscreen></iframe>"
   ]
  },
  {
   "cell_type": "markdown",
   "id": "603050f5-e13f-4188-9c21-4b90447c4595",
   "metadata": {},
   "source": [
    "Graphe utilisé pour les exemples ci-dessous :\n",
    "<center><img src=https://github.com/cpge-itc/itc1/raw/4be1ee8d9679ffae521c506ad54acb9e6099c614/files/5_graph/tp/tp2/g.png width=200></center>\n",
    "\n",
    "**Remarque** : les fonctions `add_edge` et `is_edge` ci-dessous marchent aussi sur un graphe orienté."
   ]
  },
  {
   "cell_type": "markdown",
   "id": "5409eb5c-29f1-412b-b7e4-f1e55abc19d7",
   "metadata": {},
   "source": [
    "## Matrice d'adjacence"
   ]
  },
  {
   "cell_type": "code",
   "execution_count": 1,
   "id": "8f28da64-6fc5-48e3-bc9b-f3dfec9d9f45",
   "metadata": {},
   "outputs": [
    {
     "data": {
      "text/plain": [
       "val g_mat : int array array =\n",
       "  [|[|0; 0; 0; 0; 0; 0; 1|]; [|0; 0; 1; 1; 1; 0; 0|];\n",
       "    [|0; 1; 0; 0; 1; 1; 0|]; [|0; 1; 0; 0; 1; 0; 0|];\n",
       "    [|0; 0; 1; 1; 0; 0; 0|]; [|0; 0; 1; 0; 1; 0; 0|];\n",
       "    [|1; 0; 0; 0; 0; 0; 0|]|]\n"
      ]
     },
     "execution_count": 1,
     "metadata": {},
     "output_type": "execute_result"
    }
   ],
   "source": [
    "let g_mat = [|\n",
    "    [|0; 0; 0; 0; 0; 0; 1|];\n",
    "    [|0; 0; 1; 1; 1; 0; 0|];\n",
    "    [|0; 1; 0; 0; 1; 1; 0|];\n",
    "    [|0; 1; 0; 0; 1; 0; 0|];\n",
    "    [|0; 0; 1; 1; 0; 0; 0|];\n",
    "    [|0; 0; 1; 0; 1; 0; 0|];\n",
    "    [|1; 0; 0; 0; 0; 0; 0|];\n",
    "|]"
   ]
  },
  {
   "cell_type": "code",
   "execution_count": 2,
   "id": "b96aefd3",
   "metadata": {},
   "outputs": [
    {
     "data": {
      "text/plain": [
       "val add_edge : int array array -> int -> int -> unit = <fun>\n"
      ]
     },
     "execution_count": 2,
     "metadata": {},
     "output_type": "execute_result"
    }
   ],
   "source": [
    "let add_edge g u v = (* ajoute l'arête (u, v) dans un graphe g représenté par matrice d'adjacence *)\n",
    "    g.(u).(v) <- 1"
   ]
  },
  {
   "cell_type": "code",
   "execution_count": 3,
   "id": "89553fe1",
   "metadata": {},
   "outputs": [
    {
     "data": {
      "text/plain": [
       "val is_edge : int array array -> int -> int -> bool = <fun>\n"
      ]
     },
     "execution_count": 3,
     "metadata": {},
     "output_type": "execute_result"
    }
   ],
   "source": [
    "let is_edge g u v = (* teste si g contient l'arête (u, v) *)\n",
    "    g.(u).(v) = 1\n",
    "\n",
    "let () = assert (is_edge g_mat 4 2 && not (is_edge g_mat 2 0))"
   ]
  },
  {
   "cell_type": "markdown",
   "id": "13b74b87",
   "metadata": {},
   "source": [
    "## Liste d'adjacence"
   ]
  },
  {
   "cell_type": "code",
   "execution_count": 4,
   "id": "d3dfeb92",
   "metadata": {},
   "outputs": [
    {
     "data": {
      "text/plain": [
       "val g_list : int list array =\n",
       "  [|[6]; [2; 3; 4]; [1; 4; 5]; [1; 4]; [1; 2; 3; 5]; [4; 2]; [0]|]\n"
      ]
     },
     "execution_count": 4,
     "metadata": {},
     "output_type": "execute_result"
    }
   ],
   "source": [
    "let g_list = [|[6]; [2; 3; 4]; [1; 4; 5]; [1; 4]; [1; 2; 3; 5]; [4; 2]; [0]|]"
   ]
  },
  {
   "cell_type": "code",
   "execution_count": 5,
   "id": "6dbd0111",
   "metadata": {},
   "outputs": [
    {
     "data": {
      "text/plain": [
       "val add_edge : 'a list array -> int -> 'a -> unit = <fun>\n"
      ]
     },
     "execution_count": 5,
     "metadata": {},
     "output_type": "execute_result"
    }
   ],
   "source": [
    "let add_edge g u v = (* ajoute l'arête (u, v) dans un graphe g représenté par liste d'adjacence *)\n",
    "    g.(u) <- v::g.(u)"
   ]
  },
  {
   "cell_type": "code",
   "execution_count": 6,
   "id": "344a4e1f",
   "metadata": {},
   "outputs": [
    {
     "data": {
      "text/plain": [
       "val is_edge : 'a list array -> int -> 'a -> bool = <fun>\n"
      ]
     },
     "execution_count": 6,
     "metadata": {},
     "output_type": "execute_result"
    }
   ],
   "source": [
    "let is_edge g u v = (* teste si g contient l'arête (u, v) *)\n",
    "    List.mem v g.(u);;\n",
    "\n",
    "let () = assert (is_edge g_list 4 2 && not (is_edge g_list 2 0))"
   ]
  },
  {
   "cell_type": "markdown",
   "id": "2a254265-f266-4468-8b5a-86c4196053e7",
   "metadata": {},
   "source": [
    "## Dictionnaire d'adjacence\n",
    "\n",
    "Ici, on utilise un dictionnaire (par table de hachage) pour représenter le graphe. Chaque élément de la table de hachage sera un ensemble, obtenu avec le module `Set` ([utilisant un arbre binaire de recherche équilibré](https://github.com/ocaml/ocaml/blob/trunk/stdlib/set.ml))."
   ]
  },
  {
   "cell_type": "code",
   "execution_count": 7,
   "id": "4d6c2fab",
   "metadata": {},
   "outputs": [
    {
     "data": {
      "text/plain": [
       "module S :\n",
       "  sig\n",
       "    type elt = Int.t\n",
       "    type t = Set.Make(Int).t\n",
       "    val empty : t\n",
       "    val is_empty : t -> bool\n",
       "    val mem : elt -> t -> bool\n",
       "    val add : elt -> t -> t\n",
       "    val singleton : elt -> t\n",
       "    val remove : elt -> t -> t\n",
       "    val union : t -> t -> t\n",
       "    val inter : t -> t -> t\n",
       "    val disjoint : t -> t -> bool\n",
       "    val diff : t -> t -> t\n",
       "    val compare : t -> t -> int\n",
       "    val equal : t -> t -> bool\n",
       "    val subset : t -> t -> bool\n",
       "    val iter : (elt -> unit) -> t -> unit\n",
       "    val map : (elt -> elt) -> t -> t\n",
       "    val fold : (elt -> 'a -> 'a) -> t -> 'a -> 'a\n",
       "    val for_all : (elt -> bool) -> t -> bool\n",
       "    val exists : (elt -> bool) -> t -> bool\n",
       "    val filter : (elt -> bool) -> t -> t\n",
       "    val filter_map : (elt -> elt option) -> t -> t\n",
       "    val partition : (elt -> bool) -> t -> t * t\n",
       "    val cardinal : t -> int\n",
       "    val elements : t -> elt list\n",
       "    val min_elt : t -> elt\n",
       "    val min_elt_opt : t -> elt option\n",
       "    val max_elt : t -> elt\n",
       "    val max_elt_opt : t -> elt option\n",
       "    val choose : t -> elt\n",
       "    val choose_opt : t -> elt option\n",
       "    val split : elt -> t -> t * bool * t\n",
       "    val find : elt -> t -> elt\n",
       "    val find_opt : elt -> t -> elt option\n",
       "    val find_first : (elt -> bool) -> t -> elt\n",
       "    val find_first_opt : (elt -> bool) -> t -> elt option\n",
       "    val find_last : (elt -> bool) -> t -> elt\n",
       "    val find_last_opt : (elt -> bool) -> t -> elt option\n",
       "    val of_list : elt list -> t\n",
       "    val to_seq_from : elt -> t -> elt Seq.t\n",
       "    val to_seq : t -> elt Seq.t\n",
       "    val to_rev_seq : t -> elt Seq.t\n",
       "    val add_seq : elt Seq.t -> t -> t\n",
       "    val of_seq : elt Seq.t -> t\n",
       "  end\n"
      ]
     },
     "execution_count": 7,
     "metadata": {},
     "output_type": "execute_result"
    }
   ],
   "source": [
    "module S = Set.Make(Int) (* structure d'ensemble d'entiers *)"
   ]
  },
  {
   "cell_type": "code",
   "execution_count": 8,
   "id": "be826f51",
   "metadata": {},
   "outputs": [
    {
     "data": {
      "text/plain": [
       "val g_dict : ('_weak1, '_weak2) Hashtbl.t = <abstr>\n"
      ]
     },
     "execution_count": 8,
     "metadata": {},
     "output_type": "execute_result"
    }
   ],
   "source": [
    "let g_dict = Hashtbl.create 42;;\n",
    "let () = for i = 0 to Array.length g_list - 1 do\n",
    "    Hashtbl.add g_dict i (S.of_list g_list.(i))\n",
    "done"
   ]
  },
  {
   "cell_type": "markdown",
   "id": "14073d79",
   "metadata": {},
   "source": [
    "`Hashtbl.create 42` permet de créer une table de hachage avec un tableau de taille initiale `42`. Lorsqu'on ajoute des associations à la table de hachage, la taille du tableau peut augmenter (pour éviter un trop grand nombre de collisions)."
   ]
  },
  {
   "cell_type": "code",
   "execution_count": 9,
   "id": "b9f8c542",
   "metadata": {},
   "outputs": [
    {
     "data": {
      "text/plain": [
       "val is_edge : ('a, S.t) Hashtbl.t -> 'a -> S.elt -> bool = <fun>\n"
      ]
     },
     "execution_count": 9,
     "metadata": {},
     "output_type": "execute_result"
    }
   ],
   "source": [
    "let is_edge g u v = (* teste si g contient l'arête (u, v) *)\n",
    "    Hashtbl.find g u \n",
    "    |> S.mem v\n",
    "\n",
    "let () = assert (is_edge g_dict 3 1 && not (is_edge g_dict 2 0))"
   ]
  },
  {
   "cell_type": "code",
   "execution_count": 10,
   "id": "fd66286f",
   "metadata": {},
   "outputs": [
    {
     "data": {
      "text/plain": [
       "val add_edge : ('a, S.t) Hashtbl.t -> 'a -> S.elt -> unit = <fun>\n"
      ]
     },
     "execution_count": 10,
     "metadata": {},
     "output_type": "execute_result"
    }
   ],
   "source": [
    "let add_edge g u v = (* ajoute l'arête (u, v) à g *)\n",
    "    let s = Hashtbl.find g u in\n",
    "    Hashtbl.add g u (S.add v s)"
   ]
  },
  {
   "cell_type": "markdown",
   "id": "2921bba8",
   "metadata": {},
   "source": [
    "[Plus d'informations sur les tables de hachage](https://cs3110.github.io/textbook/chapters/ds/hash_tables.html#)."
   ]
  },
  {
   "cell_type": "markdown",
   "id": "44970c67-d983-47c3-a6a2-c46c6946c59c",
   "metadata": {},
   "source": [
    "## Module\n",
    "\n",
    "Type de module pour un graphe :"
   ]
  },
  {
   "cell_type": "code",
   "execution_count": 11,
   "id": "6777f633-1f92-474b-aa2f-2209d4d055f9",
   "metadata": {},
   "outputs": [
    {
     "data": {
      "text/plain": [
       "module type Graph =\n",
       "  sig\n",
       "    type vertex\n",
       "    type t\n",
       "    val empty : int -> t\n",
       "    val n : t -> int\n",
       "    val is_edge : vertex -> vertex -> t -> bool\n",
       "    val add_edge : vertex -> vertex -> t -> unit\n",
       "    val del_edge : vertex -> vertex -> t -> unit\n",
       "  end\n"
      ]
     },
     "execution_count": 11,
     "metadata": {},
     "output_type": "execute_result"
    }
   ],
   "source": [
    "module type Graph = sig\n",
    "    type vertex\n",
    "    type t\n",
    "    val empty : int -> t\n",
    "    val n : t -> int\n",
    "    val is_edge : vertex -> vertex -> t -> bool\n",
    "    val add_edge : vertex -> vertex -> t -> unit\n",
    "    val del_edge : vertex -> vertex -> t -> unit\n",
    "end"
   ]
  },
  {
   "cell_type": "code",
   "execution_count": 12,
   "id": "1909fa43-6c02-4d8a-acb8-4f6d71ba7b60",
   "metadata": {},
   "outputs": [
    {
     "data": {
      "text/plain": [
       "module MatrixGraph :\n",
       "  sig\n",
       "    type t\n",
       "    val empty : int -> t\n",
       "    val n : t -> int\n",
       "    val is_edge : int -> int -> t -> bool\n",
       "    val add_edge : int -> int -> t -> unit\n",
       "    val del_edge : int -> int -> t -> unit\n",
       "  end\n"
      ]
     },
     "execution_count": 12,
     "metadata": {},
     "output_type": "execute_result"
    }
   ],
   "source": [
    "module MatrixGraph : (Graph with type vertex := int) = struct\n",
    "    type vertex = int\n",
    "    type t = vertex array array\n",
    "    let empty n = Array.make_matrix n n 0\n",
    "    let n = Array.length\n",
    "    let is_edge i j m = m.(i).(j) <> 0\n",
    "    let add_edge i j m = m.(i).(j) <- 1\n",
    "    let del_edge i j m = m.(i).(j) <- 0\n",
    "end"
   ]
  },
  {
   "cell_type": "markdown",
   "id": "0bb2a2f0-cfac-42af-b882-ade369099f34",
   "metadata": {},
   "source": [
    "Exemple d'utilisation :"
   ]
  },
  {
   "cell_type": "code",
   "execution_count": 13,
   "id": "8b79d5a9-6ae5-41d5-95e5-afe379c698d8",
   "metadata": {},
   "outputs": [
    {
     "data": {
      "text/plain": [
       "val g : MatrixGraph.t = <abstr>\n"
      ]
     },
     "execution_count": 13,
     "metadata": {},
     "output_type": "execute_result"
    },
    {
     "data": {
      "text/plain": [
       "- : bool = false\n"
      ]
     },
     "execution_count": 13,
     "metadata": {},
     "output_type": "execute_result"
    },
    {
     "data": {
      "text/plain": [
       "- : bool = true\n"
      ]
     },
     "execution_count": 13,
     "metadata": {},
     "output_type": "execute_result"
    }
   ],
   "source": [
    "let g = MatrixGraph.empty 4;; (* graphe à 4 sommets *)\n",
    "let () = MatrixGraph.add_edge 0 1 g;; (* ajout d'une arête entre les sommets *)\n",
    "MatrixGraph.is_edge 0 3 g;; (* false *)\n",
    "let () = MatrixGraph.add_edge 0 3 g;;\n",
    "MatrixGraph.is_edge 0 3 g;; (* true *)"
   ]
  },
  {
   "cell_type": "markdown",
   "id": "9fff85ad-b4ff-4293-859a-ab536450cf0a",
   "metadata": {},
   "source": [
    "```{raw} html\n",
    "<br>\n",
    "<script\n",
    "   type=\"text/javascript\"\n",
    "   src=\"https://utteranc.es/client.js\"\n",
    "   async=\"async\"\n",
    "   repo=\"mp-info/mp-info.github.io\"\n",
    "   issue-term=\"pathname\"\n",
    "   theme=\"github-light\"\n",
    "   label=\"💬 comment\"\n",
    "   crossorigin=\"anonymous\"\n",
    "/>\n",
    "```"
   ]
  }
 ],
 "metadata": {
  "kernelspec": {
   "display_name": "ocaml",
   "language": "ocaml",
   "name": "ocaml"
  },
  "language_info": {
   "codemirror_mode": "text/x-ocaml",
   "file_extension": ".ml",
   "mimetype": "text/x-ocaml",
   "name": "ocaml",
   "nbconverter_exporter": null,
   "pygments_lexer": "OCaml",
   "version": "3.9.2"
  },
  "vscode": {
   "interpreter": {
    "hash": "31f2aee4e71d21fbe5cf8b01ff0e069b9275f58929596ceb00d14d90e3e16cd6"
   }
  }
 },
 "nbformat": 4,
 "nbformat_minor": 5
}
