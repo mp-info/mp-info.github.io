{
 "cells": [
  {
   "cell_type": "markdown",
   "metadata": {},
   "source": [
    "# Devoir : représentation de graphes"
   ]
  },
  {
   "cell_type": "markdown",
   "metadata": {},
   "source": [
    "````{admonition} Exercice\n",
    " \n",
    "<center><img src=https://raw.githubusercontent.com/fortierq/tikz/master/graph/examples/unweighted/directed/g1/g1.png width=350></center>\n",
    "\n",
    "1. Définir le graphe orienté ci-dessus sous forme de matrice d'adjacence.  \n",
    "2. Définir le graphe orienté ci-dessus sous forme de liste d'adjacence.\n",
    "3. Faire de même pour le graphe non-orienté ci-dessous (même graphe mais non-orienté).  \n",
    "<center><img src=https://raw.githubusercontent.com/fortierq/tikz/master/graph/examples/unweighted/undirected/g2/g2.png width=300></center>\n",
    "````"
   ]
  },
  {
   "cell_type": "markdown",
   "metadata": {},
   "source": [
    "On utilisera les exemples ci-dessus pour tester les fonctions suivantes."
   ]
  },
  {
   "cell_type": "markdown",
   "metadata": {},
   "source": [
    "````{admonition} Exercice\n",
    " Écrire une fonction `complet g` déterminant si le graphe `g` représenté par matrice d'adjacence est complet.\n",
    "````"
   ]
  },
  {
   "cell_type": "markdown",
   "metadata": {},
   "source": [
    "````{admonition} Exercice\n",
    " Écrire une fonction `nb_aretes : int list array` renvoyant le nombre d'arêtes d'un graphe représenté par liste d'adjacence.\n",
    "````"
   ]
  },
  {
   "cell_type": "markdown",
   "metadata": {},
   "source": [
    "````{admonition} Exercice\n",
    " \n",
    "1. Écrire une fonction `inverser : int list array -> int list array` inversant le sens de tous les arcs d'un graphe orienté représenté par liste d'adjacence.  \n",
    "2. Si `g` est un graphe orienté représenté par matrice d'adjacence $M$, quelle matrice obtient-on en inversant le sens de tous les arcs de `g` ?\n",
    "````"
   ]
  }
 ],
 "metadata": {
  "celltoolbar": "Tags",
  "kernelspec": {
   "display_name": "OCaml 4.14",
   "language": "OCaml",
   "name": "ocaml-jupyter"
  },
  "language_info": {
   "codemirror_mode": "text/x-ocaml",
   "file_extension": ".ml",
   "mimetype": "text/x-ocaml",
   "name": "OCaml",
   "nbconverter_exporter": null,
   "pygments_lexer": "OCaml",
   "version": "4.14.0"
  },
  "vscode": {
   "interpreter": {
    "hash": "31f2aee4e71d21fbe5cf8b01ff0e069b9275f58929596ceb00d14d90e3e16cd6"
   }
  }
 },
 "nbformat": 4,
 "nbformat_minor": 2
}
