{
 "cells": [
  {
   "cell_type": "markdown",
   "metadata": {},
   "source": [
    "# Révisions\n",
    "\n",
    "<iframe src=https://mozilla.github.io/pdf.js/web/viewer.html?file=https://raw.githubusercontent.com/mp-info/mp-info.github.io/main/files/1_revisions/revisions_ocaml.pdf#zoom=page-fit&pagemode=none height=500 width=100% allowfullscreen></iframe>"
   ]
  },
  {
   "cell_type": "markdown",
   "metadata": {
    "tags": [
     "exo"
    ]
   },
   "source": [
    "````{admonition} Exercice\n",
    " Que vaut `l` après avoir exécuté le code suivant?\n",
    "```ocaml\n",
    "let l = [1; 2; 3] in\n",
    "0::l\n",
    "```\n",
    "````"
   ]
  },
  {
   "cell_type": "markdown",
   "metadata": {
    "tags": [
     "cor"
    ]
   },
   "source": [
    "````{admonition} Solution\n",
    ":class: tip, dropdown\n",
    "`l` vaut toujours `[1; 2; 3]` : écrire `e::l` ne modifie pas `l`.\n",
    "````"
   ]
  },
  {
   "cell_type": "markdown",
   "metadata": {
    "tags": [
     "exo"
    ]
   },
   "source": [
    "````{admonition} Exercice\n",
    "1. Réimplémenter `List.map`, `List.filter`, `List.init`.\n",
    "2. Calculer la liste des carrés des entiers pairs entre 0 et 10.\n",
    "````"
   ]
  },
  {
   "cell_type": "markdown",
   "execution_count": 1,
   "metadata": {
    "tags": [
     "cor"
    ],
    "vscode": {
     "languageId": "ocaml"
    }
   },
   "source": [
    "````{admonition} Solution\n",
    ":class: tip, dropdown\n",
    "``` ocaml\n",
    "(* 1.*)\n",
    "let rec map f = function\n",
    "    | [] -> []\n",
    "    | e::q -> f e::map f q;;\n",
    "    \n",
    "let rec filter f = function\n",
    "    | [] -> []\n",
    "    | e::q -> if f e then e::filter f q else filter f q;;\n",
    "    \n",
    "let rec init n f =\n",
    "    if n = 0 then []\n",
    "    else (init (n - 1) f)@[f n];;\n",
    "    \n",
    "let () = assert (init 4 (fun x -> x*x) |> map (fun x -> x - 4) |> filter ((<) 0) = [5; 12])\n",
    "```\n",
    "``` \n",
    "val map : ('a -> 'b) -> 'a list -> 'b list = <fun>\n",
    "\n",
    "val filter : ('a -> bool) -> 'a list -> 'a list = <fun>\n",
    "\n",
    "val init : int -> (int -> 'a) -> 'a list = <fun>\n",
    "\n",
    "\n",
    "```\n",
    "````"
   ]
  },
  {
   "cell_type": "markdown",
   "metadata": {
    "tags": [
     "exo"
    ],
    "vscode": {
     "languageId": "plaintext"
    }
   },
   "source": [
    "````{admonition} Exercice\n",
    " Redéfinir `List.rev` à l’aide de `List.fold_left`.\n",
    "````"
   ]
  },
  {
   "cell_type": "markdown",
   "execution_count": 2,
   "metadata": {
    "tags": [
     "cor"
    ],
    "vscode": {
     "languageId": "ocaml"
    }
   },
   "source": [
    "````{admonition} Solution\n",
    ":class: tip, dropdown\n",
    "``` ocaml\n",
    "let rev l = List.fold_left (fun l e -> e::l) [] l;;\n",
    "\n",
    "let () = assert (rev [1; 2; 3] = [3; 2; 1])\n",
    "```\n",
    "``` \n",
    "val rev : 'a list -> 'a list = <fun>\n",
    "\n",
    "\n",
    "```\n",
    "````"
   ]
  },
  {
   "cell_type": "markdown",
   "metadata": {},
   "source": [
    "```{raw} html\n",
    "<script\n",
    "   type=\"text/javascript\"\n",
    "   src=\"https://utteranc.es/client.js\"\n",
    "   async=\"async\"\n",
    "   repo=\"mp-info/mp-info.github.io\"\n",
    "   issue-term=\"pathname\"\n",
    "   theme=\"github-light\"\n",
    "   label=\"💬 comment\"\n",
    "   crossorigin=\"anonymous\"\n",
    "/>\n",
    "```"
   ]
  }
 ],
 "metadata": {
  "celltoolbar": "Tags",
  "kernelspec": {
   "display_name": "OCaml 4.14",
   "language": "OCaml",
   "name": "ocaml-jupyter"
  },
  "language_info": {
   "codemirror_mode": "text/x-ocaml",
   "file_extension": ".ml",
   "mimetype": "text/x-ocaml",
   "name": "OCaml",
   "nbconverter_exporter": null,
   "pygments_lexer": "OCaml",
   "version": "4.14.0"
  }
 },
 "nbformat": 4,
 "nbformat_minor": 4
}
