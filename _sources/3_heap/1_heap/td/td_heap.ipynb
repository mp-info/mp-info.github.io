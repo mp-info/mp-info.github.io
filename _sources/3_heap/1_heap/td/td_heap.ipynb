{
 "cells": [
  {
   "attachments": {},
   "cell_type": "markdown",
   "metadata": {},
   "source": [
    "# TD : File de priorité\n",
    "\n",
    "<script>\n",
    "    $(function() {\n",
    "        button_heap = button_cor(\n",
    "            '3_heap/1_heap/td/td_heap',\n",
    "            'td_heap',\n",
    "            'button_heap'\n",
    "        );\n",
    "    });\n",
    "</script>\n",
    "\n",
    "```{margin}\n",
    "<input type=\"button\" id=\"button_heap\" onclick=\"button_heap.switch()\" />\n",
    "```\n",
    "\n",
    "<iframe id=\"td_heap\" height=900 width=100% allowfullscreen></iframe>"
   ]
  },
  {
   "cell_type": "markdown",
   "metadata": {},
   "source": [
    "```{raw} html\n",
    "<script\n",
    "   type=\"text/javascript\"\n",
    "   src=\"https://utteranc.es/client.js\"\n",
    "   async=\"async\"\n",
    "   repo=\"mp-info/mp-info.github.io\"\n",
    "   issue-term=\"pathname\"\n",
    "   theme=\"github-light\"\n",
    "   label=\"💬 comment\"\n",
    "   crossorigin=\"anonymous\"\n",
    "/>\n",
    "```"
   ]
  }
 ],
 "metadata": {
  "kernelspec": {
   "display_name": "Python 3",
   "language": "python",
   "name": "python3"
  },
  "language_info": {
   "codemirror_mode": "text/x-ocaml",
   "file_extension": ".ml",
   "mimetype": "text/x-ocaml",
   "name": "python",
   "nbconverter_exporter": null,
   "pygments_lexer": "OCaml",
   "version": "3.9.2 (default, Feb 28 2021, 17:03:44) \n[GCC 10.2.1 20210110]"
  },
  "vscode": {
   "interpreter": {
    "hash": "31f2aee4e71d21fbe5cf8b01ff0e069b9275f58929596ceb00d14d90e3e16cd6"
   }
  }
 },
 "nbformat": 4,
 "nbformat_minor": 2
}
