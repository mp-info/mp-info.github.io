{
 "cells": [
  {
   "cell_type": "markdown",
   "metadata": {},
   "source": [
    "# File de priorité\n",
    "\n",
    "<iframe src=https://mozilla.github.io/pdf.js/web/viewer.html?file=https://raw.githubusercontent.com/mp-info/mp-info.github.io/main/files/3_heap/1_heap/heap.pdf#zoom=page-fit&pagemode=none height=500 width=100% allowfullscreen></iframe>"
   ]
  },
  {
   "cell_type": "code",
   "execution_count": 2,
   "metadata": {
    "vscode": {
     "languageId": "ocaml"
    }
   },
   "outputs": [
    {
     "data": {
      "text/plain": [
       "type 'a heap = { a : 'a array; mutable n : int; }\n"
      ]
     },
     "execution_count": 2,
     "metadata": {},
     "output_type": "execute_result"
    },
    {
     "data": {
      "text/plain": [
       "val swap : 'a heap -> int -> int -> unit = <fun>\n"
      ]
     },
     "execution_count": 2,
     "metadata": {},
     "output_type": "execute_result"
    }
   ],
   "source": [
    "type 'a heap = { a : 'a array; mutable n : int }\n",
    "\n",
    "let swap h i j =\n",
    "    let tmp = h.a.(i) in\n",
    "    h.a.(i) <- h.a.(j);\n",
    "    h.a.(j) <- tmp"
   ]
  },
  {
   "cell_type": "code",
   "execution_count": 3,
   "metadata": {
    "vscode": {
     "languageId": "ocaml"
    }
   },
   "outputs": [
    {
     "data": {
      "text/plain": [
       "val up : 'a heap -> int -> unit = <fun>\n"
      ]
     },
     "execution_count": 3,
     "metadata": {},
     "output_type": "execute_result"
    }
   ],
   "source": [
    "let rec up h i =\n",
    "  let p = (i - 1)/2 in\n",
    "  if i <> 0 && h.a.(p) < h.a.(i) then (\n",
    "      swap h i p;\n",
    "      up h p\n",
    "  )"
   ]
  },
  {
   "cell_type": "code",
   "execution_count": 6,
   "metadata": {
    "vscode": {
     "languageId": "ocaml"
    }
   },
   "outputs": [
    {
     "data": {
      "text/plain": [
       "val down : 'a heap -> int -> unit = <fun>\n"
      ]
     },
     "execution_count": 6,
     "metadata": {},
     "output_type": "execute_result"
    }
   ],
   "source": [
    "let rec down h i =\n",
    "  let m = ref i in (* maximum parmi i et ses deux fils *)\n",
    "  if 2*i + 1 < h.n && h.a.(2*i + 1) > h.a.(!m) \n",
    "  then m := 2*i + 1;\n",
    "  if 2*i + 2 < h.n && h.a.(2*i + 2) > h.a.(!m)\n",
    "  then m := 2*i + 2;\n",
    "  if !m <> i then (\n",
    "    swap h i !m;\n",
    "    down h !m\n",
    "  )"
   ]
  },
  {
   "cell_type": "code",
   "execution_count": 7,
   "metadata": {
    "vscode": {
     "languageId": "ocaml"
    }
   },
   "outputs": [
    {
     "data": {
      "text/plain": [
       "val add : 'a heap -> 'a -> unit = <fun>\n"
      ]
     },
     "execution_count": 7,
     "metadata": {},
     "output_type": "execute_result"
    }
   ],
   "source": [
    "let add h e =\n",
    "  h.a.(h.n) <- e;\n",
    "  up h h.n;\n",
    "  h.n <- h.n + 1"
   ]
  },
  {
   "cell_type": "code",
   "execution_count": 8,
   "metadata": {
    "vscode": {
     "languageId": "ocaml"
    }
   },
   "outputs": [
    {
     "data": {
      "text/plain": [
       "val array_to_heap : 'a array -> 'a heap = <fun>\n"
      ]
     },
     "execution_count": 8,
     "metadata": {},
     "output_type": "execute_result"
    }
   ],
   "source": [
    "let array_to_heap a =\n",
    "  let h = { a=a; n=0 } in\n",
    "  Array.iter (add h) a;\n",
    "  h"
   ]
  },
  {
   "cell_type": "code",
   "execution_count": 11,
   "metadata": {
    "vscode": {
     "languageId": "ocaml"
    }
   },
   "outputs": [
    {
     "data": {
      "text/plain": [
       "val extract_max : 'a heap -> 'a = <fun>\n"
      ]
     },
     "execution_count": 11,
     "metadata": {},
     "output_type": "execute_result"
    }
   ],
   "source": [
    "let rec extract_max h =\n",
    "  swap h 0 (h.n - 1);\n",
    "  h.n <- h.n - 1;\n",
    "  down h 0;\n",
    "  h.a.(h.n)"
   ]
  },
  {
   "cell_type": "code",
   "execution_count": 13,
   "metadata": {
    "vscode": {
     "languageId": "ocaml"
    }
   },
   "outputs": [
    {
     "data": {
      "text/plain": [
       "val update : 'a heap -> int -> 'a -> unit = <fun>\n"
      ]
     },
     "execution_count": 13,
     "metadata": {},
     "output_type": "execute_result"
    }
   ],
   "source": [
    "let update h i v =\n",
    "  let p = h.a.(i) in\n",
    "  h.a.(i) <- v;\n",
    "  if v > p then up h i \n",
    "  else down h i"
   ]
  },
  {
   "cell_type": "code",
   "execution_count": 18,
   "metadata": {
    "vscode": {
     "languageId": "ocaml"
    }
   },
   "outputs": [
    {
     "data": {
      "text/plain": [
       "val heap_sort : 'a array -> unit = <fun>\n"
      ]
     },
     "execution_count": 18,
     "metadata": {},
     "output_type": "execute_result"
    },
    {
     "data": {
      "text/plain": [
       "- : int array = [|1; 1; 2; 3; 3; 4; 5; 5; 5; 6; 7; 8; 9; 9; 9|]\n"
      ]
     },
     "execution_count": 18,
     "metadata": {},
     "output_type": "execute_result"
    }
   ],
   "source": [
    "let heap_sort a =\n",
    "  let h = array_to_heap a in\n",
    "  for i = 0 to h.n - 1 do\n",
    "      extract_max h\n",
    "  done;;\n",
    "\n",
    "let a = [|3; 1; 4; 1; 5; 9; 2; 6; 5; 3; 5; 8; 9; 7; 9|] in\n",
    "heap_sort a; (* test *)\n",
    "a"
   ]
  },
  {
   "cell_type": "markdown",
   "metadata": {},
   "source": [
    "```{raw} html\n",
    "<script\n",
    "   type=\"text/javascript\"\n",
    "   src=\"https://utteranc.es/client.js\"\n",
    "   async=\"async\"\n",
    "   repo=\"mp-info/mp-info.github.io\"\n",
    "   issue-term=\"pathname\"\n",
    "   theme=\"github-light\"\n",
    "   label=\"💬 comment\"\n",
    "   crossorigin=\"anonymous\"\n",
    "/>\n",
    "```"
   ]
  }
 ],
 "metadata": {
  "kernelspec": {
   "display_name": "OCaml default",
   "language": "OCaml",
   "name": "ocaml-jupyter"
  },
  "language_info": {
   "codemirror_mode": "text/x-ocaml",
   "file_extension": ".ml",
   "mimetype": "text/x-ocaml",
   "name": "OCaml",
   "nbconverter_exporter": null,
   "pygments_lexer": "OCaml",
   "version": "4.11.1"
  },
  "vscode": {
   "interpreter": {
    "hash": "31f2aee4e71d21fbe5cf8b01ff0e069b9275f58929596ceb00d14d90e3e16cd6"
   }
  }
 },
 "nbformat": 4,
 "nbformat_minor": 2
}
